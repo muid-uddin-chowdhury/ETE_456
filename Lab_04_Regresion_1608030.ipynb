{
  "nbformat": 4,
  "nbformat_minor": 0,
  "metadata": {
    "colab": {
      "name": "Lab_04_Regresion_1608030.ipynb",
      "provenance": [],
      "collapsed_sections": [],
      "authorship_tag": "ABX9TyPwrIOPsmVC054BPoBhhlfq",
      "include_colab_link": true
    },
    "kernelspec": {
      "name": "python3",
      "display_name": "Python 3"
    },
    "language_info": {
      "name": "python"
    }
  },
  "cells": [
    {
      "cell_type": "markdown",
      "metadata": {
        "id": "view-in-github",
        "colab_type": "text"
      },
      "source": [
        "<a href=\"https://colab.research.google.com/github/muid-uddin-chowdhury/ETE_456/blob/main/Lab_04_Regresion_1608030.ipynb\" target=\"_parent\"><img src=\"https://colab.research.google.com/assets/colab-badge.svg\" alt=\"Open In Colab\"/></a>"
      ]
    },
    {
      "cell_type": "markdown",
      "source": [
        "\n",
        "**ETE-456: Regression Project on Medical Cost Personal Dataset**\n",
        "\n",
        "    Objective:\n",
        "\n",
        "        Apply various regression algorithms on the real world dataset.\n",
        "\n"
      ],
      "metadata": {
        "id": "KbRxaUjGfnQ_"
      }
    },
    {
      "cell_type": "markdown",
      "source": [
        "**Dataset (Medical Cost Personal Datasets)**\n",
        "\n",
        "Columns\n",
        "\n",
        "**age:** age of primary beneficiary\n",
        "\n",
        "**sex:** insurance contractor gender, female, male\n",
        "\n",
        "**bmi:** Body mass index, providing an understanding of body, weights that are relatively high or low relative to height, objective index of body weight (kg / m ^ 2) using the ratio of height to weight, ideally 18.5 to 24.9\n",
        "\n",
        "**children:** Number of children covered by health insurance / Number of dependents\n",
        "\n",
        "**smoker:** Smoking\n",
        "\n",
        "**region:** the beneficiary's residential area in the US, northeast, southeast, southwest, northwest.\n",
        "\n",
        "**charges:** Individual medical costs billed by health insurance"
      ],
      "metadata": {
        "id": "TFfc11UOfsBd"
      }
    },
    {
      "cell_type": "code",
      "execution_count": null,
      "metadata": {
        "id": "IPgMoOu6itNM"
      },
      "outputs": [],
      "source": [
        "import warnings\n",
        "warnings.filterwarnings(\"ignore\")"
      ]
    },
    {
      "cell_type": "markdown",
      "source": [
        "Importing Libraries"
      ],
      "metadata": {
        "id": "PYp1Cnu9mBXm"
      }
    },
    {
      "cell_type": "code",
      "source": [
        "import numpy as np        \n",
        "import pandas as pd     \n",
        "import matplotlib.pyplot as plt \n",
        "from sklearn.preprocessing import LabelEncoder\n",
        "from sklearn.model_selection import train_test_split\n",
        "from sklearn.preprocessing import StandardScaler\n",
        "from sklearn.linear_model import LinearRegression\n",
        "from sklearn.tree import DecisionTreeRegressor\n",
        "from sklearn.ensemble import RandomForestRegressor\n",
        "from sklearn.svm import SVR"
      ],
      "metadata": {
        "id": "t1FrxIMll4A9"
      },
      "execution_count": null,
      "outputs": []
    },
    {
      "cell_type": "markdown",
      "source": [
        "Downloading the files\n"
      ],
      "metadata": {
        "id": "7BhWqxvOmFbl"
      }
    },
    {
      "cell_type": "code",
      "source": [
        "!wget -O insurance.csv https://www.dropbox.com/s/mwgqgjbmfw0xa5p/insurance.csv?dl=0"
      ],
      "metadata": {
        "colab": {
          "base_uri": "https://localhost:8080/"
        },
        "id": "Cdy2EnTxl6PY",
        "outputId": "efeac012-1afd-4c66-e87e-24022ff2a4a9"
      },
      "execution_count": null,
      "outputs": [
        {
          "output_type": "stream",
          "name": "stdout",
          "text": [
            "--2021-12-20 16:07:46--  https://www.dropbox.com/s/mwgqgjbmfw0xa5p/insurance.csv?dl=0\n",
            "Resolving www.dropbox.com (www.dropbox.com)... 162.125.1.18, 2620:100:6016:18::a27d:112\n",
            "Connecting to www.dropbox.com (www.dropbox.com)|162.125.1.18|:443... connected.\n",
            "HTTP request sent, awaiting response... 301 Moved Permanently\n",
            "Location: /s/raw/mwgqgjbmfw0xa5p/insurance.csv [following]\n",
            "--2021-12-20 16:07:46--  https://www.dropbox.com/s/raw/mwgqgjbmfw0xa5p/insurance.csv\n",
            "Reusing existing connection to www.dropbox.com:443.\n",
            "HTTP request sent, awaiting response... 302 Found\n",
            "Location: https://ucb6f1b8ed91b31de0fdbc68d315.dl.dropboxusercontent.com/cd/0/inline/BcOZDT2tly7lcqw-laSoJHvlJpY1HDTfa3rL1y-gM89Bl4pG2x8113w2m7VDo2hVVn5aCT6gHSi80o8cUYM_XFmKkX-3sk7FR1w929swg1SbA3brs113qGjzbfLNr4D-q64GPmXN5ENpFMHBT-pm-LRS/file# [following]\n",
            "--2021-12-20 16:07:46--  https://ucb6f1b8ed91b31de0fdbc68d315.dl.dropboxusercontent.com/cd/0/inline/BcOZDT2tly7lcqw-laSoJHvlJpY1HDTfa3rL1y-gM89Bl4pG2x8113w2m7VDo2hVVn5aCT6gHSi80o8cUYM_XFmKkX-3sk7FR1w929swg1SbA3brs113qGjzbfLNr4D-q64GPmXN5ENpFMHBT-pm-LRS/file\n",
            "Resolving ucb6f1b8ed91b31de0fdbc68d315.dl.dropboxusercontent.com (ucb6f1b8ed91b31de0fdbc68d315.dl.dropboxusercontent.com)... 162.125.1.15, 2620:100:6016:15::a27d:10f\n",
            "Connecting to ucb6f1b8ed91b31de0fdbc68d315.dl.dropboxusercontent.com (ucb6f1b8ed91b31de0fdbc68d315.dl.dropboxusercontent.com)|162.125.1.15|:443... connected.\n",
            "HTTP request sent, awaiting response... 200 OK\n",
            "Length: 55628 (54K) [text/plain]\n",
            "Saving to: ‘insurance.csv’\n",
            "\n",
            "insurance.csv       100%[===================>]  54.32K  --.-KB/s    in 0.01s   \n",
            "\n",
            "2021-12-20 16:07:46 (4.16 MB/s) - ‘insurance.csv’ saved [55628/55628]\n",
            "\n"
          ]
        }
      ]
    },
    {
      "cell_type": "markdown",
      "source": [
        "Reading the Dataset"
      ],
      "metadata": {
        "id": "dGm7E1rLmYMi"
      }
    },
    {
      "cell_type": "code",
      "source": [
        "d_set = pd.read_csv('insurance.csv')\n",
        "d_set"
      ],
      "metadata": {
        "colab": {
          "base_uri": "https://localhost:8080/",
          "height": 424
        },
        "id": "ycsCd54RmJFh",
        "outputId": "d5da5234-bcdd-4644-98a3-ee39def8b174"
      },
      "execution_count": null,
      "outputs": [
        {
          "output_type": "execute_result",
          "data": {
            "text/html": [
              "\n",
              "  <div id=\"df-ff20a2b5-0245-4db7-b810-6b3cb38f55fa\">\n",
              "    <div class=\"colab-df-container\">\n",
              "      <div>\n",
              "<style scoped>\n",
              "    .dataframe tbody tr th:only-of-type {\n",
              "        vertical-align: middle;\n",
              "    }\n",
              "\n",
              "    .dataframe tbody tr th {\n",
              "        vertical-align: top;\n",
              "    }\n",
              "\n",
              "    .dataframe thead th {\n",
              "        text-align: right;\n",
              "    }\n",
              "</style>\n",
              "<table border=\"1\" class=\"dataframe\">\n",
              "  <thead>\n",
              "    <tr style=\"text-align: right;\">\n",
              "      <th></th>\n",
              "      <th>age</th>\n",
              "      <th>sex</th>\n",
              "      <th>bmi</th>\n",
              "      <th>children</th>\n",
              "      <th>smoker</th>\n",
              "      <th>region</th>\n",
              "      <th>charges</th>\n",
              "    </tr>\n",
              "  </thead>\n",
              "  <tbody>\n",
              "    <tr>\n",
              "      <th>0</th>\n",
              "      <td>19</td>\n",
              "      <td>female</td>\n",
              "      <td>27.900</td>\n",
              "      <td>0</td>\n",
              "      <td>yes</td>\n",
              "      <td>southwest</td>\n",
              "      <td>16884.92400</td>\n",
              "    </tr>\n",
              "    <tr>\n",
              "      <th>1</th>\n",
              "      <td>18</td>\n",
              "      <td>male</td>\n",
              "      <td>33.770</td>\n",
              "      <td>1</td>\n",
              "      <td>no</td>\n",
              "      <td>southeast</td>\n",
              "      <td>1725.55230</td>\n",
              "    </tr>\n",
              "    <tr>\n",
              "      <th>2</th>\n",
              "      <td>28</td>\n",
              "      <td>male</td>\n",
              "      <td>33.000</td>\n",
              "      <td>3</td>\n",
              "      <td>no</td>\n",
              "      <td>southeast</td>\n",
              "      <td>4449.46200</td>\n",
              "    </tr>\n",
              "    <tr>\n",
              "      <th>3</th>\n",
              "      <td>33</td>\n",
              "      <td>male</td>\n",
              "      <td>22.705</td>\n",
              "      <td>0</td>\n",
              "      <td>no</td>\n",
              "      <td>northwest</td>\n",
              "      <td>21984.47061</td>\n",
              "    </tr>\n",
              "    <tr>\n",
              "      <th>4</th>\n",
              "      <td>32</td>\n",
              "      <td>male</td>\n",
              "      <td>28.880</td>\n",
              "      <td>0</td>\n",
              "      <td>no</td>\n",
              "      <td>northwest</td>\n",
              "      <td>3866.85520</td>\n",
              "    </tr>\n",
              "    <tr>\n",
              "      <th>...</th>\n",
              "      <td>...</td>\n",
              "      <td>...</td>\n",
              "      <td>...</td>\n",
              "      <td>...</td>\n",
              "      <td>...</td>\n",
              "      <td>...</td>\n",
              "      <td>...</td>\n",
              "    </tr>\n",
              "    <tr>\n",
              "      <th>1333</th>\n",
              "      <td>50</td>\n",
              "      <td>male</td>\n",
              "      <td>30.970</td>\n",
              "      <td>3</td>\n",
              "      <td>no</td>\n",
              "      <td>northwest</td>\n",
              "      <td>10600.54830</td>\n",
              "    </tr>\n",
              "    <tr>\n",
              "      <th>1334</th>\n",
              "      <td>18</td>\n",
              "      <td>female</td>\n",
              "      <td>31.920</td>\n",
              "      <td>0</td>\n",
              "      <td>no</td>\n",
              "      <td>northeast</td>\n",
              "      <td>2205.98080</td>\n",
              "    </tr>\n",
              "    <tr>\n",
              "      <th>1335</th>\n",
              "      <td>18</td>\n",
              "      <td>female</td>\n",
              "      <td>36.850</td>\n",
              "      <td>0</td>\n",
              "      <td>no</td>\n",
              "      <td>southeast</td>\n",
              "      <td>1629.83350</td>\n",
              "    </tr>\n",
              "    <tr>\n",
              "      <th>1336</th>\n",
              "      <td>21</td>\n",
              "      <td>female</td>\n",
              "      <td>25.800</td>\n",
              "      <td>0</td>\n",
              "      <td>no</td>\n",
              "      <td>southwest</td>\n",
              "      <td>2007.94500</td>\n",
              "    </tr>\n",
              "    <tr>\n",
              "      <th>1337</th>\n",
              "      <td>61</td>\n",
              "      <td>female</td>\n",
              "      <td>29.070</td>\n",
              "      <td>0</td>\n",
              "      <td>yes</td>\n",
              "      <td>northwest</td>\n",
              "      <td>29141.36030</td>\n",
              "    </tr>\n",
              "  </tbody>\n",
              "</table>\n",
              "<p>1338 rows × 7 columns</p>\n",
              "</div>\n",
              "      <button class=\"colab-df-convert\" onclick=\"convertToInteractive('df-ff20a2b5-0245-4db7-b810-6b3cb38f55fa')\"\n",
              "              title=\"Convert this dataframe to an interactive table.\"\n",
              "              style=\"display:none;\">\n",
              "        \n",
              "  <svg xmlns=\"http://www.w3.org/2000/svg\" height=\"24px\"viewBox=\"0 0 24 24\"\n",
              "       width=\"24px\">\n",
              "    <path d=\"M0 0h24v24H0V0z\" fill=\"none\"/>\n",
              "    <path d=\"M18.56 5.44l.94 2.06.94-2.06 2.06-.94-2.06-.94-.94-2.06-.94 2.06-2.06.94zm-11 1L8.5 8.5l.94-2.06 2.06-.94-2.06-.94L8.5 2.5l-.94 2.06-2.06.94zm10 10l.94 2.06.94-2.06 2.06-.94-2.06-.94-.94-2.06-.94 2.06-2.06.94z\"/><path d=\"M17.41 7.96l-1.37-1.37c-.4-.4-.92-.59-1.43-.59-.52 0-1.04.2-1.43.59L10.3 9.45l-7.72 7.72c-.78.78-.78 2.05 0 2.83L4 21.41c.39.39.9.59 1.41.59.51 0 1.02-.2 1.41-.59l7.78-7.78 2.81-2.81c.8-.78.8-2.07 0-2.86zM5.41 20L4 18.59l7.72-7.72 1.47 1.35L5.41 20z\"/>\n",
              "  </svg>\n",
              "      </button>\n",
              "      \n",
              "  <style>\n",
              "    .colab-df-container {\n",
              "      display:flex;\n",
              "      flex-wrap:wrap;\n",
              "      gap: 12px;\n",
              "    }\n",
              "\n",
              "    .colab-df-convert {\n",
              "      background-color: #E8F0FE;\n",
              "      border: none;\n",
              "      border-radius: 50%;\n",
              "      cursor: pointer;\n",
              "      display: none;\n",
              "      fill: #1967D2;\n",
              "      height: 32px;\n",
              "      padding: 0 0 0 0;\n",
              "      width: 32px;\n",
              "    }\n",
              "\n",
              "    .colab-df-convert:hover {\n",
              "      background-color: #E2EBFA;\n",
              "      box-shadow: 0px 1px 2px rgba(60, 64, 67, 0.3), 0px 1px 3px 1px rgba(60, 64, 67, 0.15);\n",
              "      fill: #174EA6;\n",
              "    }\n",
              "\n",
              "    [theme=dark] .colab-df-convert {\n",
              "      background-color: #3B4455;\n",
              "      fill: #D2E3FC;\n",
              "    }\n",
              "\n",
              "    [theme=dark] .colab-df-convert:hover {\n",
              "      background-color: #434B5C;\n",
              "      box-shadow: 0px 1px 3px 1px rgba(0, 0, 0, 0.15);\n",
              "      filter: drop-shadow(0px 1px 2px rgba(0, 0, 0, 0.3));\n",
              "      fill: #FFFFFF;\n",
              "    }\n",
              "  </style>\n",
              "\n",
              "      <script>\n",
              "        const buttonEl =\n",
              "          document.querySelector('#df-ff20a2b5-0245-4db7-b810-6b3cb38f55fa button.colab-df-convert');\n",
              "        buttonEl.style.display =\n",
              "          google.colab.kernel.accessAllowed ? 'block' : 'none';\n",
              "\n",
              "        async function convertToInteractive(key) {\n",
              "          const element = document.querySelector('#df-ff20a2b5-0245-4db7-b810-6b3cb38f55fa');\n",
              "          const dataTable =\n",
              "            await google.colab.kernel.invokeFunction('convertToInteractive',\n",
              "                                                     [key], {});\n",
              "          if (!dataTable) return;\n",
              "\n",
              "          const docLinkHtml = 'Like what you see? Visit the ' +\n",
              "            '<a target=\"_blank\" href=https://colab.research.google.com/notebooks/data_table.ipynb>data table notebook</a>'\n",
              "            + ' to learn more about interactive tables.';\n",
              "          element.innerHTML = '';\n",
              "          dataTable['output_type'] = 'display_data';\n",
              "          await google.colab.output.renderOutput(dataTable, element);\n",
              "          const docLink = document.createElement('div');\n",
              "          docLink.innerHTML = docLinkHtml;\n",
              "          element.appendChild(docLink);\n",
              "        }\n",
              "      </script>\n",
              "    </div>\n",
              "  </div>\n",
              "  "
            ],
            "text/plain": [
              "      age     sex     bmi  children smoker     region      charges\n",
              "0      19  female  27.900         0    yes  southwest  16884.92400\n",
              "1      18    male  33.770         1     no  southeast   1725.55230\n",
              "2      28    male  33.000         3     no  southeast   4449.46200\n",
              "3      33    male  22.705         0     no  northwest  21984.47061\n",
              "4      32    male  28.880         0     no  northwest   3866.85520\n",
              "...   ...     ...     ...       ...    ...        ...          ...\n",
              "1333   50    male  30.970         3     no  northwest  10600.54830\n",
              "1334   18  female  31.920         0     no  northeast   2205.98080\n",
              "1335   18  female  36.850         0     no  southeast   1629.83350\n",
              "1336   21  female  25.800         0     no  southwest   2007.94500\n",
              "1337   61  female  29.070         0    yes  northwest  29141.36030\n",
              "\n",
              "[1338 rows x 7 columns]"
            ]
          },
          "metadata": {},
          "execution_count": 5
        }
      ]
    },
    {
      "cell_type": "markdown",
      "source": [
        "Separating Features and Targets"
      ],
      "metadata": {
        "id": "7SiMufrzmjy3"
      }
    },
    {
      "cell_type": "code",
      "source": [
        "features = d_set[['age', 'sex', 'bmi', 'children','smoker','region']]\n",
        "\n",
        "target = d_set[['charges']]"
      ],
      "metadata": {
        "id": "HDmvX1ULma93"
      },
      "execution_count": null,
      "outputs": []
    },
    {
      "cell_type": "code",
      "source": [
        "features\n"
      ],
      "metadata": {
        "colab": {
          "base_uri": "https://localhost:8080/",
          "height": 424
        },
        "id": "Y4ELlx6QmpP5",
        "outputId": "7b170cd0-2402-4f28-8bfa-a0624c333edb"
      },
      "execution_count": null,
      "outputs": [
        {
          "output_type": "execute_result",
          "data": {
            "text/html": [
              "\n",
              "  <div id=\"df-e219a94a-ae1c-4ccc-ba09-4b3268b83798\">\n",
              "    <div class=\"colab-df-container\">\n",
              "      <div>\n",
              "<style scoped>\n",
              "    .dataframe tbody tr th:only-of-type {\n",
              "        vertical-align: middle;\n",
              "    }\n",
              "\n",
              "    .dataframe tbody tr th {\n",
              "        vertical-align: top;\n",
              "    }\n",
              "\n",
              "    .dataframe thead th {\n",
              "        text-align: right;\n",
              "    }\n",
              "</style>\n",
              "<table border=\"1\" class=\"dataframe\">\n",
              "  <thead>\n",
              "    <tr style=\"text-align: right;\">\n",
              "      <th></th>\n",
              "      <th>age</th>\n",
              "      <th>sex</th>\n",
              "      <th>bmi</th>\n",
              "      <th>children</th>\n",
              "      <th>smoker</th>\n",
              "      <th>region</th>\n",
              "    </tr>\n",
              "  </thead>\n",
              "  <tbody>\n",
              "    <tr>\n",
              "      <th>0</th>\n",
              "      <td>19</td>\n",
              "      <td>female</td>\n",
              "      <td>27.900</td>\n",
              "      <td>0</td>\n",
              "      <td>yes</td>\n",
              "      <td>southwest</td>\n",
              "    </tr>\n",
              "    <tr>\n",
              "      <th>1</th>\n",
              "      <td>18</td>\n",
              "      <td>male</td>\n",
              "      <td>33.770</td>\n",
              "      <td>1</td>\n",
              "      <td>no</td>\n",
              "      <td>southeast</td>\n",
              "    </tr>\n",
              "    <tr>\n",
              "      <th>2</th>\n",
              "      <td>28</td>\n",
              "      <td>male</td>\n",
              "      <td>33.000</td>\n",
              "      <td>3</td>\n",
              "      <td>no</td>\n",
              "      <td>southeast</td>\n",
              "    </tr>\n",
              "    <tr>\n",
              "      <th>3</th>\n",
              "      <td>33</td>\n",
              "      <td>male</td>\n",
              "      <td>22.705</td>\n",
              "      <td>0</td>\n",
              "      <td>no</td>\n",
              "      <td>northwest</td>\n",
              "    </tr>\n",
              "    <tr>\n",
              "      <th>4</th>\n",
              "      <td>32</td>\n",
              "      <td>male</td>\n",
              "      <td>28.880</td>\n",
              "      <td>0</td>\n",
              "      <td>no</td>\n",
              "      <td>northwest</td>\n",
              "    </tr>\n",
              "    <tr>\n",
              "      <th>...</th>\n",
              "      <td>...</td>\n",
              "      <td>...</td>\n",
              "      <td>...</td>\n",
              "      <td>...</td>\n",
              "      <td>...</td>\n",
              "      <td>...</td>\n",
              "    </tr>\n",
              "    <tr>\n",
              "      <th>1333</th>\n",
              "      <td>50</td>\n",
              "      <td>male</td>\n",
              "      <td>30.970</td>\n",
              "      <td>3</td>\n",
              "      <td>no</td>\n",
              "      <td>northwest</td>\n",
              "    </tr>\n",
              "    <tr>\n",
              "      <th>1334</th>\n",
              "      <td>18</td>\n",
              "      <td>female</td>\n",
              "      <td>31.920</td>\n",
              "      <td>0</td>\n",
              "      <td>no</td>\n",
              "      <td>northeast</td>\n",
              "    </tr>\n",
              "    <tr>\n",
              "      <th>1335</th>\n",
              "      <td>18</td>\n",
              "      <td>female</td>\n",
              "      <td>36.850</td>\n",
              "      <td>0</td>\n",
              "      <td>no</td>\n",
              "      <td>southeast</td>\n",
              "    </tr>\n",
              "    <tr>\n",
              "      <th>1336</th>\n",
              "      <td>21</td>\n",
              "      <td>female</td>\n",
              "      <td>25.800</td>\n",
              "      <td>0</td>\n",
              "      <td>no</td>\n",
              "      <td>southwest</td>\n",
              "    </tr>\n",
              "    <tr>\n",
              "      <th>1337</th>\n",
              "      <td>61</td>\n",
              "      <td>female</td>\n",
              "      <td>29.070</td>\n",
              "      <td>0</td>\n",
              "      <td>yes</td>\n",
              "      <td>northwest</td>\n",
              "    </tr>\n",
              "  </tbody>\n",
              "</table>\n",
              "<p>1338 rows × 6 columns</p>\n",
              "</div>\n",
              "      <button class=\"colab-df-convert\" onclick=\"convertToInteractive('df-e219a94a-ae1c-4ccc-ba09-4b3268b83798')\"\n",
              "              title=\"Convert this dataframe to an interactive table.\"\n",
              "              style=\"display:none;\">\n",
              "        \n",
              "  <svg xmlns=\"http://www.w3.org/2000/svg\" height=\"24px\"viewBox=\"0 0 24 24\"\n",
              "       width=\"24px\">\n",
              "    <path d=\"M0 0h24v24H0V0z\" fill=\"none\"/>\n",
              "    <path d=\"M18.56 5.44l.94 2.06.94-2.06 2.06-.94-2.06-.94-.94-2.06-.94 2.06-2.06.94zm-11 1L8.5 8.5l.94-2.06 2.06-.94-2.06-.94L8.5 2.5l-.94 2.06-2.06.94zm10 10l.94 2.06.94-2.06 2.06-.94-2.06-.94-.94-2.06-.94 2.06-2.06.94z\"/><path d=\"M17.41 7.96l-1.37-1.37c-.4-.4-.92-.59-1.43-.59-.52 0-1.04.2-1.43.59L10.3 9.45l-7.72 7.72c-.78.78-.78 2.05 0 2.83L4 21.41c.39.39.9.59 1.41.59.51 0 1.02-.2 1.41-.59l7.78-7.78 2.81-2.81c.8-.78.8-2.07 0-2.86zM5.41 20L4 18.59l7.72-7.72 1.47 1.35L5.41 20z\"/>\n",
              "  </svg>\n",
              "      </button>\n",
              "      \n",
              "  <style>\n",
              "    .colab-df-container {\n",
              "      display:flex;\n",
              "      flex-wrap:wrap;\n",
              "      gap: 12px;\n",
              "    }\n",
              "\n",
              "    .colab-df-convert {\n",
              "      background-color: #E8F0FE;\n",
              "      border: none;\n",
              "      border-radius: 50%;\n",
              "      cursor: pointer;\n",
              "      display: none;\n",
              "      fill: #1967D2;\n",
              "      height: 32px;\n",
              "      padding: 0 0 0 0;\n",
              "      width: 32px;\n",
              "    }\n",
              "\n",
              "    .colab-df-convert:hover {\n",
              "      background-color: #E2EBFA;\n",
              "      box-shadow: 0px 1px 2px rgba(60, 64, 67, 0.3), 0px 1px 3px 1px rgba(60, 64, 67, 0.15);\n",
              "      fill: #174EA6;\n",
              "    }\n",
              "\n",
              "    [theme=dark] .colab-df-convert {\n",
              "      background-color: #3B4455;\n",
              "      fill: #D2E3FC;\n",
              "    }\n",
              "\n",
              "    [theme=dark] .colab-df-convert:hover {\n",
              "      background-color: #434B5C;\n",
              "      box-shadow: 0px 1px 3px 1px rgba(0, 0, 0, 0.15);\n",
              "      filter: drop-shadow(0px 1px 2px rgba(0, 0, 0, 0.3));\n",
              "      fill: #FFFFFF;\n",
              "    }\n",
              "  </style>\n",
              "\n",
              "      <script>\n",
              "        const buttonEl =\n",
              "          document.querySelector('#df-e219a94a-ae1c-4ccc-ba09-4b3268b83798 button.colab-df-convert');\n",
              "        buttonEl.style.display =\n",
              "          google.colab.kernel.accessAllowed ? 'block' : 'none';\n",
              "\n",
              "        async function convertToInteractive(key) {\n",
              "          const element = document.querySelector('#df-e219a94a-ae1c-4ccc-ba09-4b3268b83798');\n",
              "          const dataTable =\n",
              "            await google.colab.kernel.invokeFunction('convertToInteractive',\n",
              "                                                     [key], {});\n",
              "          if (!dataTable) return;\n",
              "\n",
              "          const docLinkHtml = 'Like what you see? Visit the ' +\n",
              "            '<a target=\"_blank\" href=https://colab.research.google.com/notebooks/data_table.ipynb>data table notebook</a>'\n",
              "            + ' to learn more about interactive tables.';\n",
              "          element.innerHTML = '';\n",
              "          dataTable['output_type'] = 'display_data';\n",
              "          await google.colab.output.renderOutput(dataTable, element);\n",
              "          const docLink = document.createElement('div');\n",
              "          docLink.innerHTML = docLinkHtml;\n",
              "          element.appendChild(docLink);\n",
              "        }\n",
              "      </script>\n",
              "    </div>\n",
              "  </div>\n",
              "  "
            ],
            "text/plain": [
              "      age     sex     bmi  children smoker     region\n",
              "0      19  female  27.900         0    yes  southwest\n",
              "1      18    male  33.770         1     no  southeast\n",
              "2      28    male  33.000         3     no  southeast\n",
              "3      33    male  22.705         0     no  northwest\n",
              "4      32    male  28.880         0     no  northwest\n",
              "...   ...     ...     ...       ...    ...        ...\n",
              "1333   50    male  30.970         3     no  northwest\n",
              "1334   18  female  31.920         0     no  northeast\n",
              "1335   18  female  36.850         0     no  southeast\n",
              "1336   21  female  25.800         0     no  southwest\n",
              "1337   61  female  29.070         0    yes  northwest\n",
              "\n",
              "[1338 rows x 6 columns]"
            ]
          },
          "metadata": {},
          "execution_count": 7
        }
      ]
    },
    {
      "cell_type": "code",
      "source": [
        "target"
      ],
      "metadata": {
        "colab": {
          "base_uri": "https://localhost:8080/",
          "height": 424
        },
        "id": "iJDLdezsmtSE",
        "outputId": "8a18ab3a-ee4a-4419-d58e-3a8915e74db4"
      },
      "execution_count": null,
      "outputs": [
        {
          "output_type": "execute_result",
          "data": {
            "text/html": [
              "\n",
              "  <div id=\"df-406a5293-525a-415a-bb1d-d473309e65fa\">\n",
              "    <div class=\"colab-df-container\">\n",
              "      <div>\n",
              "<style scoped>\n",
              "    .dataframe tbody tr th:only-of-type {\n",
              "        vertical-align: middle;\n",
              "    }\n",
              "\n",
              "    .dataframe tbody tr th {\n",
              "        vertical-align: top;\n",
              "    }\n",
              "\n",
              "    .dataframe thead th {\n",
              "        text-align: right;\n",
              "    }\n",
              "</style>\n",
              "<table border=\"1\" class=\"dataframe\">\n",
              "  <thead>\n",
              "    <tr style=\"text-align: right;\">\n",
              "      <th></th>\n",
              "      <th>charges</th>\n",
              "    </tr>\n",
              "  </thead>\n",
              "  <tbody>\n",
              "    <tr>\n",
              "      <th>0</th>\n",
              "      <td>16884.92400</td>\n",
              "    </tr>\n",
              "    <tr>\n",
              "      <th>1</th>\n",
              "      <td>1725.55230</td>\n",
              "    </tr>\n",
              "    <tr>\n",
              "      <th>2</th>\n",
              "      <td>4449.46200</td>\n",
              "    </tr>\n",
              "    <tr>\n",
              "      <th>3</th>\n",
              "      <td>21984.47061</td>\n",
              "    </tr>\n",
              "    <tr>\n",
              "      <th>4</th>\n",
              "      <td>3866.85520</td>\n",
              "    </tr>\n",
              "    <tr>\n",
              "      <th>...</th>\n",
              "      <td>...</td>\n",
              "    </tr>\n",
              "    <tr>\n",
              "      <th>1333</th>\n",
              "      <td>10600.54830</td>\n",
              "    </tr>\n",
              "    <tr>\n",
              "      <th>1334</th>\n",
              "      <td>2205.98080</td>\n",
              "    </tr>\n",
              "    <tr>\n",
              "      <th>1335</th>\n",
              "      <td>1629.83350</td>\n",
              "    </tr>\n",
              "    <tr>\n",
              "      <th>1336</th>\n",
              "      <td>2007.94500</td>\n",
              "    </tr>\n",
              "    <tr>\n",
              "      <th>1337</th>\n",
              "      <td>29141.36030</td>\n",
              "    </tr>\n",
              "  </tbody>\n",
              "</table>\n",
              "<p>1338 rows × 1 columns</p>\n",
              "</div>\n",
              "      <button class=\"colab-df-convert\" onclick=\"convertToInteractive('df-406a5293-525a-415a-bb1d-d473309e65fa')\"\n",
              "              title=\"Convert this dataframe to an interactive table.\"\n",
              "              style=\"display:none;\">\n",
              "        \n",
              "  <svg xmlns=\"http://www.w3.org/2000/svg\" height=\"24px\"viewBox=\"0 0 24 24\"\n",
              "       width=\"24px\">\n",
              "    <path d=\"M0 0h24v24H0V0z\" fill=\"none\"/>\n",
              "    <path d=\"M18.56 5.44l.94 2.06.94-2.06 2.06-.94-2.06-.94-.94-2.06-.94 2.06-2.06.94zm-11 1L8.5 8.5l.94-2.06 2.06-.94-2.06-.94L8.5 2.5l-.94 2.06-2.06.94zm10 10l.94 2.06.94-2.06 2.06-.94-2.06-.94-.94-2.06-.94 2.06-2.06.94z\"/><path d=\"M17.41 7.96l-1.37-1.37c-.4-.4-.92-.59-1.43-.59-.52 0-1.04.2-1.43.59L10.3 9.45l-7.72 7.72c-.78.78-.78 2.05 0 2.83L4 21.41c.39.39.9.59 1.41.59.51 0 1.02-.2 1.41-.59l7.78-7.78 2.81-2.81c.8-.78.8-2.07 0-2.86zM5.41 20L4 18.59l7.72-7.72 1.47 1.35L5.41 20z\"/>\n",
              "  </svg>\n",
              "      </button>\n",
              "      \n",
              "  <style>\n",
              "    .colab-df-container {\n",
              "      display:flex;\n",
              "      flex-wrap:wrap;\n",
              "      gap: 12px;\n",
              "    }\n",
              "\n",
              "    .colab-df-convert {\n",
              "      background-color: #E8F0FE;\n",
              "      border: none;\n",
              "      border-radius: 50%;\n",
              "      cursor: pointer;\n",
              "      display: none;\n",
              "      fill: #1967D2;\n",
              "      height: 32px;\n",
              "      padding: 0 0 0 0;\n",
              "      width: 32px;\n",
              "    }\n",
              "\n",
              "    .colab-df-convert:hover {\n",
              "      background-color: #E2EBFA;\n",
              "      box-shadow: 0px 1px 2px rgba(60, 64, 67, 0.3), 0px 1px 3px 1px rgba(60, 64, 67, 0.15);\n",
              "      fill: #174EA6;\n",
              "    }\n",
              "\n",
              "    [theme=dark] .colab-df-convert {\n",
              "      background-color: #3B4455;\n",
              "      fill: #D2E3FC;\n",
              "    }\n",
              "\n",
              "    [theme=dark] .colab-df-convert:hover {\n",
              "      background-color: #434B5C;\n",
              "      box-shadow: 0px 1px 3px 1px rgba(0, 0, 0, 0.15);\n",
              "      filter: drop-shadow(0px 1px 2px rgba(0, 0, 0, 0.3));\n",
              "      fill: #FFFFFF;\n",
              "    }\n",
              "  </style>\n",
              "\n",
              "      <script>\n",
              "        const buttonEl =\n",
              "          document.querySelector('#df-406a5293-525a-415a-bb1d-d473309e65fa button.colab-df-convert');\n",
              "        buttonEl.style.display =\n",
              "          google.colab.kernel.accessAllowed ? 'block' : 'none';\n",
              "\n",
              "        async function convertToInteractive(key) {\n",
              "          const element = document.querySelector('#df-406a5293-525a-415a-bb1d-d473309e65fa');\n",
              "          const dataTable =\n",
              "            await google.colab.kernel.invokeFunction('convertToInteractive',\n",
              "                                                     [key], {});\n",
              "          if (!dataTable) return;\n",
              "\n",
              "          const docLinkHtml = 'Like what you see? Visit the ' +\n",
              "            '<a target=\"_blank\" href=https://colab.research.google.com/notebooks/data_table.ipynb>data table notebook</a>'\n",
              "            + ' to learn more about interactive tables.';\n",
              "          element.innerHTML = '';\n",
              "          dataTable['output_type'] = 'display_data';\n",
              "          await google.colab.output.renderOutput(dataTable, element);\n",
              "          const docLink = document.createElement('div');\n",
              "          docLink.innerHTML = docLinkHtml;\n",
              "          element.appendChild(docLink);\n",
              "        }\n",
              "      </script>\n",
              "    </div>\n",
              "  </div>\n",
              "  "
            ],
            "text/plain": [
              "          charges\n",
              "0     16884.92400\n",
              "1      1725.55230\n",
              "2      4449.46200\n",
              "3     21984.47061\n",
              "4      3866.85520\n",
              "...           ...\n",
              "1333  10600.54830\n",
              "1334   2205.98080\n",
              "1335   1629.83350\n",
              "1336   2007.94500\n",
              "1337  29141.36030\n",
              "\n",
              "[1338 rows x 1 columns]"
            ]
          },
          "metadata": {},
          "execution_count": 9
        }
      ]
    },
    {
      "cell_type": "markdown",
      "source": [
        "Label Encoder"
      ],
      "metadata": {
        "id": "qlpokcxam1gr"
      }
    },
    {
      "cell_type": "code",
      "source": [
        "from sklearn.preprocessing import LabelEncoder"
      ],
      "metadata": {
        "id": "IKlJ0_gRmxbb"
      },
      "execution_count": null,
      "outputs": []
    },
    {
      "cell_type": "code",
      "source": [
        "labelencoder_f = LabelEncoder()\n",
        "\n",
        "features['sex'] = labelencoder_f.fit_transform(features['sex'])\n",
        "features['smoker'] = labelencoder_f.fit_transform(features['smoker'])\n",
        "features['region'] = labelencoder_f.fit_transform(features['region'])"
      ],
      "metadata": {
        "colab": {
          "base_uri": "https://localhost:8080/"
        },
        "id": "UVXyC0uAoA01",
        "outputId": "2c402cda-2a98-4793-a0db-69c2136c4a2a"
      },
      "execution_count": null,
      "outputs": [
        {
          "output_type": "stream",
          "name": "stderr",
          "text": [
            "/usr/local/lib/python3.7/dist-packages/ipykernel_launcher.py:3: SettingWithCopyWarning: \n",
            "A value is trying to be set on a copy of a slice from a DataFrame.\n",
            "Try using .loc[row_indexer,col_indexer] = value instead\n",
            "\n",
            "See the caveats in the documentation: https://pandas.pydata.org/pandas-docs/stable/user_guide/indexing.html#returning-a-view-versus-a-copy\n",
            "  This is separate from the ipykernel package so we can avoid doing imports until\n",
            "/usr/local/lib/python3.7/dist-packages/ipykernel_launcher.py:4: SettingWithCopyWarning: \n",
            "A value is trying to be set on a copy of a slice from a DataFrame.\n",
            "Try using .loc[row_indexer,col_indexer] = value instead\n",
            "\n",
            "See the caveats in the documentation: https://pandas.pydata.org/pandas-docs/stable/user_guide/indexing.html#returning-a-view-versus-a-copy\n",
            "  after removing the cwd from sys.path.\n",
            "/usr/local/lib/python3.7/dist-packages/ipykernel_launcher.py:5: SettingWithCopyWarning: \n",
            "A value is trying to be set on a copy of a slice from a DataFrame.\n",
            "Try using .loc[row_indexer,col_indexer] = value instead\n",
            "\n",
            "See the caveats in the documentation: https://pandas.pydata.org/pandas-docs/stable/user_guide/indexing.html#returning-a-view-versus-a-copy\n",
            "  \"\"\"\n"
          ]
        }
      ]
    },
    {
      "cell_type": "code",
      "source": [
        "features"
      ],
      "metadata": {
        "colab": {
          "base_uri": "https://localhost:8080/",
          "height": 424
        },
        "id": "MdZZy3oboMLF",
        "outputId": "0e52bd38-44d5-48bd-dee1-f5cff24be1e6"
      },
      "execution_count": null,
      "outputs": [
        {
          "output_type": "execute_result",
          "data": {
            "text/html": [
              "\n",
              "  <div id=\"df-616902dc-87dc-4078-b2d1-d074fe6525fd\">\n",
              "    <div class=\"colab-df-container\">\n",
              "      <div>\n",
              "<style scoped>\n",
              "    .dataframe tbody tr th:only-of-type {\n",
              "        vertical-align: middle;\n",
              "    }\n",
              "\n",
              "    .dataframe tbody tr th {\n",
              "        vertical-align: top;\n",
              "    }\n",
              "\n",
              "    .dataframe thead th {\n",
              "        text-align: right;\n",
              "    }\n",
              "</style>\n",
              "<table border=\"1\" class=\"dataframe\">\n",
              "  <thead>\n",
              "    <tr style=\"text-align: right;\">\n",
              "      <th></th>\n",
              "      <th>age</th>\n",
              "      <th>sex</th>\n",
              "      <th>bmi</th>\n",
              "      <th>children</th>\n",
              "      <th>smoker</th>\n",
              "      <th>region</th>\n",
              "    </tr>\n",
              "  </thead>\n",
              "  <tbody>\n",
              "    <tr>\n",
              "      <th>0</th>\n",
              "      <td>19</td>\n",
              "      <td>0</td>\n",
              "      <td>27.900</td>\n",
              "      <td>0</td>\n",
              "      <td>1</td>\n",
              "      <td>3</td>\n",
              "    </tr>\n",
              "    <tr>\n",
              "      <th>1</th>\n",
              "      <td>18</td>\n",
              "      <td>1</td>\n",
              "      <td>33.770</td>\n",
              "      <td>1</td>\n",
              "      <td>0</td>\n",
              "      <td>2</td>\n",
              "    </tr>\n",
              "    <tr>\n",
              "      <th>2</th>\n",
              "      <td>28</td>\n",
              "      <td>1</td>\n",
              "      <td>33.000</td>\n",
              "      <td>3</td>\n",
              "      <td>0</td>\n",
              "      <td>2</td>\n",
              "    </tr>\n",
              "    <tr>\n",
              "      <th>3</th>\n",
              "      <td>33</td>\n",
              "      <td>1</td>\n",
              "      <td>22.705</td>\n",
              "      <td>0</td>\n",
              "      <td>0</td>\n",
              "      <td>1</td>\n",
              "    </tr>\n",
              "    <tr>\n",
              "      <th>4</th>\n",
              "      <td>32</td>\n",
              "      <td>1</td>\n",
              "      <td>28.880</td>\n",
              "      <td>0</td>\n",
              "      <td>0</td>\n",
              "      <td>1</td>\n",
              "    </tr>\n",
              "    <tr>\n",
              "      <th>...</th>\n",
              "      <td>...</td>\n",
              "      <td>...</td>\n",
              "      <td>...</td>\n",
              "      <td>...</td>\n",
              "      <td>...</td>\n",
              "      <td>...</td>\n",
              "    </tr>\n",
              "    <tr>\n",
              "      <th>1333</th>\n",
              "      <td>50</td>\n",
              "      <td>1</td>\n",
              "      <td>30.970</td>\n",
              "      <td>3</td>\n",
              "      <td>0</td>\n",
              "      <td>1</td>\n",
              "    </tr>\n",
              "    <tr>\n",
              "      <th>1334</th>\n",
              "      <td>18</td>\n",
              "      <td>0</td>\n",
              "      <td>31.920</td>\n",
              "      <td>0</td>\n",
              "      <td>0</td>\n",
              "      <td>0</td>\n",
              "    </tr>\n",
              "    <tr>\n",
              "      <th>1335</th>\n",
              "      <td>18</td>\n",
              "      <td>0</td>\n",
              "      <td>36.850</td>\n",
              "      <td>0</td>\n",
              "      <td>0</td>\n",
              "      <td>2</td>\n",
              "    </tr>\n",
              "    <tr>\n",
              "      <th>1336</th>\n",
              "      <td>21</td>\n",
              "      <td>0</td>\n",
              "      <td>25.800</td>\n",
              "      <td>0</td>\n",
              "      <td>0</td>\n",
              "      <td>3</td>\n",
              "    </tr>\n",
              "    <tr>\n",
              "      <th>1337</th>\n",
              "      <td>61</td>\n",
              "      <td>0</td>\n",
              "      <td>29.070</td>\n",
              "      <td>0</td>\n",
              "      <td>1</td>\n",
              "      <td>1</td>\n",
              "    </tr>\n",
              "  </tbody>\n",
              "</table>\n",
              "<p>1338 rows × 6 columns</p>\n",
              "</div>\n",
              "      <button class=\"colab-df-convert\" onclick=\"convertToInteractive('df-616902dc-87dc-4078-b2d1-d074fe6525fd')\"\n",
              "              title=\"Convert this dataframe to an interactive table.\"\n",
              "              style=\"display:none;\">\n",
              "        \n",
              "  <svg xmlns=\"http://www.w3.org/2000/svg\" height=\"24px\"viewBox=\"0 0 24 24\"\n",
              "       width=\"24px\">\n",
              "    <path d=\"M0 0h24v24H0V0z\" fill=\"none\"/>\n",
              "    <path d=\"M18.56 5.44l.94 2.06.94-2.06 2.06-.94-2.06-.94-.94-2.06-.94 2.06-2.06.94zm-11 1L8.5 8.5l.94-2.06 2.06-.94-2.06-.94L8.5 2.5l-.94 2.06-2.06.94zm10 10l.94 2.06.94-2.06 2.06-.94-2.06-.94-.94-2.06-.94 2.06-2.06.94z\"/><path d=\"M17.41 7.96l-1.37-1.37c-.4-.4-.92-.59-1.43-.59-.52 0-1.04.2-1.43.59L10.3 9.45l-7.72 7.72c-.78.78-.78 2.05 0 2.83L4 21.41c.39.39.9.59 1.41.59.51 0 1.02-.2 1.41-.59l7.78-7.78 2.81-2.81c.8-.78.8-2.07 0-2.86zM5.41 20L4 18.59l7.72-7.72 1.47 1.35L5.41 20z\"/>\n",
              "  </svg>\n",
              "      </button>\n",
              "      \n",
              "  <style>\n",
              "    .colab-df-container {\n",
              "      display:flex;\n",
              "      flex-wrap:wrap;\n",
              "      gap: 12px;\n",
              "    }\n",
              "\n",
              "    .colab-df-convert {\n",
              "      background-color: #E8F0FE;\n",
              "      border: none;\n",
              "      border-radius: 50%;\n",
              "      cursor: pointer;\n",
              "      display: none;\n",
              "      fill: #1967D2;\n",
              "      height: 32px;\n",
              "      padding: 0 0 0 0;\n",
              "      width: 32px;\n",
              "    }\n",
              "\n",
              "    .colab-df-convert:hover {\n",
              "      background-color: #E2EBFA;\n",
              "      box-shadow: 0px 1px 2px rgba(60, 64, 67, 0.3), 0px 1px 3px 1px rgba(60, 64, 67, 0.15);\n",
              "      fill: #174EA6;\n",
              "    }\n",
              "\n",
              "    [theme=dark] .colab-df-convert {\n",
              "      background-color: #3B4455;\n",
              "      fill: #D2E3FC;\n",
              "    }\n",
              "\n",
              "    [theme=dark] .colab-df-convert:hover {\n",
              "      background-color: #434B5C;\n",
              "      box-shadow: 0px 1px 3px 1px rgba(0, 0, 0, 0.15);\n",
              "      filter: drop-shadow(0px 1px 2px rgba(0, 0, 0, 0.3));\n",
              "      fill: #FFFFFF;\n",
              "    }\n",
              "  </style>\n",
              "\n",
              "      <script>\n",
              "        const buttonEl =\n",
              "          document.querySelector('#df-616902dc-87dc-4078-b2d1-d074fe6525fd button.colab-df-convert');\n",
              "        buttonEl.style.display =\n",
              "          google.colab.kernel.accessAllowed ? 'block' : 'none';\n",
              "\n",
              "        async function convertToInteractive(key) {\n",
              "          const element = document.querySelector('#df-616902dc-87dc-4078-b2d1-d074fe6525fd');\n",
              "          const dataTable =\n",
              "            await google.colab.kernel.invokeFunction('convertToInteractive',\n",
              "                                                     [key], {});\n",
              "          if (!dataTable) return;\n",
              "\n",
              "          const docLinkHtml = 'Like what you see? Visit the ' +\n",
              "            '<a target=\"_blank\" href=https://colab.research.google.com/notebooks/data_table.ipynb>data table notebook</a>'\n",
              "            + ' to learn more about interactive tables.';\n",
              "          element.innerHTML = '';\n",
              "          dataTable['output_type'] = 'display_data';\n",
              "          await google.colab.output.renderOutput(dataTable, element);\n",
              "          const docLink = document.createElement('div');\n",
              "          docLink.innerHTML = docLinkHtml;\n",
              "          element.appendChild(docLink);\n",
              "        }\n",
              "      </script>\n",
              "    </div>\n",
              "  </div>\n",
              "  "
            ],
            "text/plain": [
              "      age  sex     bmi  children  smoker  region\n",
              "0      19    0  27.900         0       1       3\n",
              "1      18    1  33.770         1       0       2\n",
              "2      28    1  33.000         3       0       2\n",
              "3      33    1  22.705         0       0       1\n",
              "4      32    1  28.880         0       0       1\n",
              "...   ...  ...     ...       ...     ...     ...\n",
              "1333   50    1  30.970         3       0       1\n",
              "1334   18    0  31.920         0       0       0\n",
              "1335   18    0  36.850         0       0       2\n",
              "1336   21    0  25.800         0       0       3\n",
              "1337   61    0  29.070         0       1       1\n",
              "\n",
              "[1338 rows x 6 columns]"
            ]
          },
          "metadata": {},
          "execution_count": 13
        }
      ]
    },
    {
      "cell_type": "markdown",
      "source": [
        "Missing Values Implementations"
      ],
      "metadata": {
        "id": "uQuwQTHuocJS"
      }
    },
    {
      "cell_type": "code",
      "source": [
        "from sklearn.impute import SimpleImputer"
      ],
      "metadata": {
        "id": "jMs7ZvqsoPa8"
      },
      "execution_count": null,
      "outputs": []
    },
    {
      "cell_type": "code",
      "source": [
        "imputer = SimpleImputer(missing_values=np.nan,strategy = \"mean\")\n",
        "imputer = imputer.fit(features[['age', 'sex', 'bmi', 'children','smoker','region']])"
      ],
      "metadata": {
        "id": "SMgbbIKtoX-i"
      },
      "execution_count": null,
      "outputs": []
    },
    {
      "cell_type": "code",
      "source": [
        "features[['age', 'sex', 'bmi', 'children','smoker','region']]= imputer.transform(features[['age', 'sex', 'bmi', 'children','smoker','region']]"
      ],
      "metadata": {
        "colab": {
          "base_uri": "https://localhost:8080/",
          "height": 135
        },
        "id": "qRI1PfmBojB3",
        "outputId": "cbf4e8c6-55fc-4799-b041-e86ce006930a"
      },
      "execution_count": null,
      "outputs": [
        {
          "output_type": "error",
          "ename": "SyntaxError",
          "evalue": "ignored",
          "traceback": [
            "\u001b[0;36m  File \u001b[0;32m\"<ipython-input-16-926fa8597e06>\"\u001b[0;36m, line \u001b[0;32m1\u001b[0m\n\u001b[0;31m    features[['age', 'sex', 'bmi', 'children','smoker','region']]= imputer.transform(features[['age', 'sex', 'bmi', 'children','smoker','region']]\u001b[0m\n\u001b[0m                                                                                                                                                  ^\u001b[0m\n\u001b[0;31mSyntaxError\u001b[0m\u001b[0;31m:\u001b[0m unexpected EOF while parsing\n"
          ]
        }
      ]
    },
    {
      "cell_type": "code",
      "source": [
        "features"
      ],
      "metadata": {
        "colab": {
          "base_uri": "https://localhost:8080/",
          "height": 424
        },
        "id": "jIBe1KTtomNp",
        "outputId": "76797ced-0676-45c1-91b5-225de9b4c155"
      },
      "execution_count": null,
      "outputs": [
        {
          "output_type": "execute_result",
          "data": {
            "text/html": [
              "\n",
              "  <div id=\"df-570bbc99-235a-4f00-bc24-3b067b23ad6e\">\n",
              "    <div class=\"colab-df-container\">\n",
              "      <div>\n",
              "<style scoped>\n",
              "    .dataframe tbody tr th:only-of-type {\n",
              "        vertical-align: middle;\n",
              "    }\n",
              "\n",
              "    .dataframe tbody tr th {\n",
              "        vertical-align: top;\n",
              "    }\n",
              "\n",
              "    .dataframe thead th {\n",
              "        text-align: right;\n",
              "    }\n",
              "</style>\n",
              "<table border=\"1\" class=\"dataframe\">\n",
              "  <thead>\n",
              "    <tr style=\"text-align: right;\">\n",
              "      <th></th>\n",
              "      <th>age</th>\n",
              "      <th>sex</th>\n",
              "      <th>bmi</th>\n",
              "      <th>children</th>\n",
              "      <th>smoker</th>\n",
              "      <th>region</th>\n",
              "    </tr>\n",
              "  </thead>\n",
              "  <tbody>\n",
              "    <tr>\n",
              "      <th>0</th>\n",
              "      <td>19</td>\n",
              "      <td>0</td>\n",
              "      <td>27.900</td>\n",
              "      <td>0</td>\n",
              "      <td>1</td>\n",
              "      <td>3</td>\n",
              "    </tr>\n",
              "    <tr>\n",
              "      <th>1</th>\n",
              "      <td>18</td>\n",
              "      <td>1</td>\n",
              "      <td>33.770</td>\n",
              "      <td>1</td>\n",
              "      <td>0</td>\n",
              "      <td>2</td>\n",
              "    </tr>\n",
              "    <tr>\n",
              "      <th>2</th>\n",
              "      <td>28</td>\n",
              "      <td>1</td>\n",
              "      <td>33.000</td>\n",
              "      <td>3</td>\n",
              "      <td>0</td>\n",
              "      <td>2</td>\n",
              "    </tr>\n",
              "    <tr>\n",
              "      <th>3</th>\n",
              "      <td>33</td>\n",
              "      <td>1</td>\n",
              "      <td>22.705</td>\n",
              "      <td>0</td>\n",
              "      <td>0</td>\n",
              "      <td>1</td>\n",
              "    </tr>\n",
              "    <tr>\n",
              "      <th>4</th>\n",
              "      <td>32</td>\n",
              "      <td>1</td>\n",
              "      <td>28.880</td>\n",
              "      <td>0</td>\n",
              "      <td>0</td>\n",
              "      <td>1</td>\n",
              "    </tr>\n",
              "    <tr>\n",
              "      <th>...</th>\n",
              "      <td>...</td>\n",
              "      <td>...</td>\n",
              "      <td>...</td>\n",
              "      <td>...</td>\n",
              "      <td>...</td>\n",
              "      <td>...</td>\n",
              "    </tr>\n",
              "    <tr>\n",
              "      <th>1333</th>\n",
              "      <td>50</td>\n",
              "      <td>1</td>\n",
              "      <td>30.970</td>\n",
              "      <td>3</td>\n",
              "      <td>0</td>\n",
              "      <td>1</td>\n",
              "    </tr>\n",
              "    <tr>\n",
              "      <th>1334</th>\n",
              "      <td>18</td>\n",
              "      <td>0</td>\n",
              "      <td>31.920</td>\n",
              "      <td>0</td>\n",
              "      <td>0</td>\n",
              "      <td>0</td>\n",
              "    </tr>\n",
              "    <tr>\n",
              "      <th>1335</th>\n",
              "      <td>18</td>\n",
              "      <td>0</td>\n",
              "      <td>36.850</td>\n",
              "      <td>0</td>\n",
              "      <td>0</td>\n",
              "      <td>2</td>\n",
              "    </tr>\n",
              "    <tr>\n",
              "      <th>1336</th>\n",
              "      <td>21</td>\n",
              "      <td>0</td>\n",
              "      <td>25.800</td>\n",
              "      <td>0</td>\n",
              "      <td>0</td>\n",
              "      <td>3</td>\n",
              "    </tr>\n",
              "    <tr>\n",
              "      <th>1337</th>\n",
              "      <td>61</td>\n",
              "      <td>0</td>\n",
              "      <td>29.070</td>\n",
              "      <td>0</td>\n",
              "      <td>1</td>\n",
              "      <td>1</td>\n",
              "    </tr>\n",
              "  </tbody>\n",
              "</table>\n",
              "<p>1338 rows × 6 columns</p>\n",
              "</div>\n",
              "      <button class=\"colab-df-convert\" onclick=\"convertToInteractive('df-570bbc99-235a-4f00-bc24-3b067b23ad6e')\"\n",
              "              title=\"Convert this dataframe to an interactive table.\"\n",
              "              style=\"display:none;\">\n",
              "        \n",
              "  <svg xmlns=\"http://www.w3.org/2000/svg\" height=\"24px\"viewBox=\"0 0 24 24\"\n",
              "       width=\"24px\">\n",
              "    <path d=\"M0 0h24v24H0V0z\" fill=\"none\"/>\n",
              "    <path d=\"M18.56 5.44l.94 2.06.94-2.06 2.06-.94-2.06-.94-.94-2.06-.94 2.06-2.06.94zm-11 1L8.5 8.5l.94-2.06 2.06-.94-2.06-.94L8.5 2.5l-.94 2.06-2.06.94zm10 10l.94 2.06.94-2.06 2.06-.94-2.06-.94-.94-2.06-.94 2.06-2.06.94z\"/><path d=\"M17.41 7.96l-1.37-1.37c-.4-.4-.92-.59-1.43-.59-.52 0-1.04.2-1.43.59L10.3 9.45l-7.72 7.72c-.78.78-.78 2.05 0 2.83L4 21.41c.39.39.9.59 1.41.59.51 0 1.02-.2 1.41-.59l7.78-7.78 2.81-2.81c.8-.78.8-2.07 0-2.86zM5.41 20L4 18.59l7.72-7.72 1.47 1.35L5.41 20z\"/>\n",
              "  </svg>\n",
              "      </button>\n",
              "      \n",
              "  <style>\n",
              "    .colab-df-container {\n",
              "      display:flex;\n",
              "      flex-wrap:wrap;\n",
              "      gap: 12px;\n",
              "    }\n",
              "\n",
              "    .colab-df-convert {\n",
              "      background-color: #E8F0FE;\n",
              "      border: none;\n",
              "      border-radius: 50%;\n",
              "      cursor: pointer;\n",
              "      display: none;\n",
              "      fill: #1967D2;\n",
              "      height: 32px;\n",
              "      padding: 0 0 0 0;\n",
              "      width: 32px;\n",
              "    }\n",
              "\n",
              "    .colab-df-convert:hover {\n",
              "      background-color: #E2EBFA;\n",
              "      box-shadow: 0px 1px 2px rgba(60, 64, 67, 0.3), 0px 1px 3px 1px rgba(60, 64, 67, 0.15);\n",
              "      fill: #174EA6;\n",
              "    }\n",
              "\n",
              "    [theme=dark] .colab-df-convert {\n",
              "      background-color: #3B4455;\n",
              "      fill: #D2E3FC;\n",
              "    }\n",
              "\n",
              "    [theme=dark] .colab-df-convert:hover {\n",
              "      background-color: #434B5C;\n",
              "      box-shadow: 0px 1px 3px 1px rgba(0, 0, 0, 0.15);\n",
              "      filter: drop-shadow(0px 1px 2px rgba(0, 0, 0, 0.3));\n",
              "      fill: #FFFFFF;\n",
              "    }\n",
              "  </style>\n",
              "\n",
              "      <script>\n",
              "        const buttonEl =\n",
              "          document.querySelector('#df-570bbc99-235a-4f00-bc24-3b067b23ad6e button.colab-df-convert');\n",
              "        buttonEl.style.display =\n",
              "          google.colab.kernel.accessAllowed ? 'block' : 'none';\n",
              "\n",
              "        async function convertToInteractive(key) {\n",
              "          const element = document.querySelector('#df-570bbc99-235a-4f00-bc24-3b067b23ad6e');\n",
              "          const dataTable =\n",
              "            await google.colab.kernel.invokeFunction('convertToInteractive',\n",
              "                                                     [key], {});\n",
              "          if (!dataTable) return;\n",
              "\n",
              "          const docLinkHtml = 'Like what you see? Visit the ' +\n",
              "            '<a target=\"_blank\" href=https://colab.research.google.com/notebooks/data_table.ipynb>data table notebook</a>'\n",
              "            + ' to learn more about interactive tables.';\n",
              "          element.innerHTML = '';\n",
              "          dataTable['output_type'] = 'display_data';\n",
              "          await google.colab.output.renderOutput(dataTable, element);\n",
              "          const docLink = document.createElement('div');\n",
              "          docLink.innerHTML = docLinkHtml;\n",
              "          element.appendChild(docLink);\n",
              "        }\n",
              "      </script>\n",
              "    </div>\n",
              "  </div>\n",
              "  "
            ],
            "text/plain": [
              "      age  sex     bmi  children  smoker  region\n",
              "0      19    0  27.900         0       1       3\n",
              "1      18    1  33.770         1       0       2\n",
              "2      28    1  33.000         3       0       2\n",
              "3      33    1  22.705         0       0       1\n",
              "4      32    1  28.880         0       0       1\n",
              "...   ...  ...     ...       ...     ...     ...\n",
              "1333   50    1  30.970         3       0       1\n",
              "1334   18    0  31.920         0       0       0\n",
              "1335   18    0  36.850         0       0       2\n",
              "1336   21    0  25.800         0       0       3\n",
              "1337   61    0  29.070         0       1       1\n",
              "\n",
              "[1338 rows x 6 columns]"
            ]
          },
          "metadata": {},
          "execution_count": 17
        }
      ]
    },
    {
      "cell_type": "code",
      "source": [
        "imputer = SimpleImputer(missing_values=np.nan,strategy = \"mean\") # imputer is an object of Imputer class \n",
        "imputer = imputer.fit(target[['charges']])"
      ],
      "metadata": {
        "id": "xdST4Ss_o3o-"
      },
      "execution_count": null,
      "outputs": []
    },
    {
      "cell_type": "code",
      "source": [
        "target[['charges']]= imputer.transform(target[['charges']])"
      ],
      "metadata": {
        "colab": {
          "base_uri": "https://localhost:8080/"
        },
        "id": "c0Grtw0qo-09",
        "outputId": "dc58ad0e-4896-442d-f4c1-55701959873b"
      },
      "execution_count": null,
      "outputs": [
        {
          "output_type": "stream",
          "name": "stderr",
          "text": [
            "/usr/local/lib/python3.7/dist-packages/ipykernel_launcher.py:1: SettingWithCopyWarning: \n",
            "A value is trying to be set on a copy of a slice from a DataFrame.\n",
            "Try using .loc[row_indexer,col_indexer] = value instead\n",
            "\n",
            "See the caveats in the documentation: https://pandas.pydata.org/pandas-docs/stable/user_guide/indexing.html#returning-a-view-versus-a-copy\n",
            "  \"\"\"Entry point for launching an IPython kernel.\n",
            "/usr/local/lib/python3.7/dist-packages/pandas/core/frame.py:3076: SettingWithCopyWarning: \n",
            "A value is trying to be set on a copy of a slice from a DataFrame\n",
            "\n",
            "See the caveats in the documentation: https://pandas.pydata.org/pandas-docs/stable/user_guide/indexing.html#returning-a-view-versus-a-copy\n",
            "  self.iloc._setitem_with_indexer((slice(None), indexer), value)\n",
            "/usr/local/lib/python3.7/dist-packages/pandas/core/frame.py:3041: SettingWithCopyWarning: \n",
            "A value is trying to be set on a copy of a slice from a DataFrame\n",
            "\n",
            "See the caveats in the documentation: https://pandas.pydata.org/pandas-docs/stable/user_guide/indexing.html#returning-a-view-versus-a-copy\n",
            "  self._setitem_array(key, value)\n"
          ]
        }
      ]
    },
    {
      "cell_type": "code",
      "source": [
        "target"
      ],
      "metadata": {
        "colab": {
          "base_uri": "https://localhost:8080/",
          "height": 424
        },
        "id": "eXflqiqdpBUM",
        "outputId": "37958dda-f2c5-4803-aa9e-9e123878b7d5"
      },
      "execution_count": null,
      "outputs": [
        {
          "output_type": "execute_result",
          "data": {
            "text/html": [
              "\n",
              "  <div id=\"df-c5ed34cb-a269-4026-94e1-52b973569745\">\n",
              "    <div class=\"colab-df-container\">\n",
              "      <div>\n",
              "<style scoped>\n",
              "    .dataframe tbody tr th:only-of-type {\n",
              "        vertical-align: middle;\n",
              "    }\n",
              "\n",
              "    .dataframe tbody tr th {\n",
              "        vertical-align: top;\n",
              "    }\n",
              "\n",
              "    .dataframe thead th {\n",
              "        text-align: right;\n",
              "    }\n",
              "</style>\n",
              "<table border=\"1\" class=\"dataframe\">\n",
              "  <thead>\n",
              "    <tr style=\"text-align: right;\">\n",
              "      <th></th>\n",
              "      <th>charges</th>\n",
              "    </tr>\n",
              "  </thead>\n",
              "  <tbody>\n",
              "    <tr>\n",
              "      <th>0</th>\n",
              "      <td>16884.92400</td>\n",
              "    </tr>\n",
              "    <tr>\n",
              "      <th>1</th>\n",
              "      <td>1725.55230</td>\n",
              "    </tr>\n",
              "    <tr>\n",
              "      <th>2</th>\n",
              "      <td>4449.46200</td>\n",
              "    </tr>\n",
              "    <tr>\n",
              "      <th>3</th>\n",
              "      <td>21984.47061</td>\n",
              "    </tr>\n",
              "    <tr>\n",
              "      <th>4</th>\n",
              "      <td>3866.85520</td>\n",
              "    </tr>\n",
              "    <tr>\n",
              "      <th>...</th>\n",
              "      <td>...</td>\n",
              "    </tr>\n",
              "    <tr>\n",
              "      <th>1333</th>\n",
              "      <td>10600.54830</td>\n",
              "    </tr>\n",
              "    <tr>\n",
              "      <th>1334</th>\n",
              "      <td>2205.98080</td>\n",
              "    </tr>\n",
              "    <tr>\n",
              "      <th>1335</th>\n",
              "      <td>1629.83350</td>\n",
              "    </tr>\n",
              "    <tr>\n",
              "      <th>1336</th>\n",
              "      <td>2007.94500</td>\n",
              "    </tr>\n",
              "    <tr>\n",
              "      <th>1337</th>\n",
              "      <td>29141.36030</td>\n",
              "    </tr>\n",
              "  </tbody>\n",
              "</table>\n",
              "<p>1338 rows × 1 columns</p>\n",
              "</div>\n",
              "      <button class=\"colab-df-convert\" onclick=\"convertToInteractive('df-c5ed34cb-a269-4026-94e1-52b973569745')\"\n",
              "              title=\"Convert this dataframe to an interactive table.\"\n",
              "              style=\"display:none;\">\n",
              "        \n",
              "  <svg xmlns=\"http://www.w3.org/2000/svg\" height=\"24px\"viewBox=\"0 0 24 24\"\n",
              "       width=\"24px\">\n",
              "    <path d=\"M0 0h24v24H0V0z\" fill=\"none\"/>\n",
              "    <path d=\"M18.56 5.44l.94 2.06.94-2.06 2.06-.94-2.06-.94-.94-2.06-.94 2.06-2.06.94zm-11 1L8.5 8.5l.94-2.06 2.06-.94-2.06-.94L8.5 2.5l-.94 2.06-2.06.94zm10 10l.94 2.06.94-2.06 2.06-.94-2.06-.94-.94-2.06-.94 2.06-2.06.94z\"/><path d=\"M17.41 7.96l-1.37-1.37c-.4-.4-.92-.59-1.43-.59-.52 0-1.04.2-1.43.59L10.3 9.45l-7.72 7.72c-.78.78-.78 2.05 0 2.83L4 21.41c.39.39.9.59 1.41.59.51 0 1.02-.2 1.41-.59l7.78-7.78 2.81-2.81c.8-.78.8-2.07 0-2.86zM5.41 20L4 18.59l7.72-7.72 1.47 1.35L5.41 20z\"/>\n",
              "  </svg>\n",
              "      </button>\n",
              "      \n",
              "  <style>\n",
              "    .colab-df-container {\n",
              "      display:flex;\n",
              "      flex-wrap:wrap;\n",
              "      gap: 12px;\n",
              "    }\n",
              "\n",
              "    .colab-df-convert {\n",
              "      background-color: #E8F0FE;\n",
              "      border: none;\n",
              "      border-radius: 50%;\n",
              "      cursor: pointer;\n",
              "      display: none;\n",
              "      fill: #1967D2;\n",
              "      height: 32px;\n",
              "      padding: 0 0 0 0;\n",
              "      width: 32px;\n",
              "    }\n",
              "\n",
              "    .colab-df-convert:hover {\n",
              "      background-color: #E2EBFA;\n",
              "      box-shadow: 0px 1px 2px rgba(60, 64, 67, 0.3), 0px 1px 3px 1px rgba(60, 64, 67, 0.15);\n",
              "      fill: #174EA6;\n",
              "    }\n",
              "\n",
              "    [theme=dark] .colab-df-convert {\n",
              "      background-color: #3B4455;\n",
              "      fill: #D2E3FC;\n",
              "    }\n",
              "\n",
              "    [theme=dark] .colab-df-convert:hover {\n",
              "      background-color: #434B5C;\n",
              "      box-shadow: 0px 1px 3px 1px rgba(0, 0, 0, 0.15);\n",
              "      filter: drop-shadow(0px 1px 2px rgba(0, 0, 0, 0.3));\n",
              "      fill: #FFFFFF;\n",
              "    }\n",
              "  </style>\n",
              "\n",
              "      <script>\n",
              "        const buttonEl =\n",
              "          document.querySelector('#df-c5ed34cb-a269-4026-94e1-52b973569745 button.colab-df-convert');\n",
              "        buttonEl.style.display =\n",
              "          google.colab.kernel.accessAllowed ? 'block' : 'none';\n",
              "\n",
              "        async function convertToInteractive(key) {\n",
              "          const element = document.querySelector('#df-c5ed34cb-a269-4026-94e1-52b973569745');\n",
              "          const dataTable =\n",
              "            await google.colab.kernel.invokeFunction('convertToInteractive',\n",
              "                                                     [key], {});\n",
              "          if (!dataTable) return;\n",
              "\n",
              "          const docLinkHtml = 'Like what you see? Visit the ' +\n",
              "            '<a target=\"_blank\" href=https://colab.research.google.com/notebooks/data_table.ipynb>data table notebook</a>'\n",
              "            + ' to learn more about interactive tables.';\n",
              "          element.innerHTML = '';\n",
              "          dataTable['output_type'] = 'display_data';\n",
              "          await google.colab.output.renderOutput(dataTable, element);\n",
              "          const docLink = document.createElement('div');\n",
              "          docLink.innerHTML = docLinkHtml;\n",
              "          element.appendChild(docLink);\n",
              "        }\n",
              "      </script>\n",
              "    </div>\n",
              "  </div>\n",
              "  "
            ],
            "text/plain": [
              "          charges\n",
              "0     16884.92400\n",
              "1      1725.55230\n",
              "2      4449.46200\n",
              "3     21984.47061\n",
              "4      3866.85520\n",
              "...           ...\n",
              "1333  10600.54830\n",
              "1334   2205.98080\n",
              "1335   1629.83350\n",
              "1336   2007.94500\n",
              "1337  29141.36030\n",
              "\n",
              "[1338 rows x 1 columns]"
            ]
          },
          "metadata": {},
          "execution_count": 20
        }
      ]
    },
    {
      "cell_type": "markdown",
      "source": [
        "Splitting Dataset"
      ],
      "metadata": {
        "id": "QQP6R4UnpLKc"
      }
    },
    {
      "cell_type": "code",
      "source": [
        "from sklearn.model_selection import train_test_split"
      ],
      "metadata": {
        "id": "kxSybR1DpFij"
      },
      "execution_count": null,
      "outputs": []
    },
    {
      "cell_type": "code",
      "source": [
        "X_train,X_test,y_train,y_test=train_test_split(features,target,test_size = 0.2,random_state = 0)"
      ],
      "metadata": {
        "id": "Zx_roXNrpOEi"
      },
      "execution_count": null,
      "outputs": []
    },
    {
      "cell_type": "code",
      "source": [
        "print(X_train.shape)\n",
        "print(X_test.shape)"
      ],
      "metadata": {
        "colab": {
          "base_uri": "https://localhost:8080/"
        },
        "id": "IPyhVvGupSJ3",
        "outputId": "877bf269-90b4-4db8-ad37-722b1ac05742"
      },
      "execution_count": null,
      "outputs": [
        {
          "output_type": "stream",
          "name": "stdout",
          "text": [
            "(1070, 6)\n",
            "(268, 6)\n"
          ]
        }
      ]
    },
    {
      "cell_type": "code",
      "source": [
        "from sklearn.preprocessing import StandardScaler\n",
        "X_sc = StandardScaler()\n",
        "y_sc = StandardScaler()\n",
        "y_train = y_sc.fit_transform(y_train[['charges']])\n",
        "y_test = y_sc.transform(y_test[['charges']])"
      ],
      "metadata": {
        "id": "fTyCNcw8pU0Q"
      },
      "execution_count": null,
      "outputs": []
    },
    {
      "cell_type": "markdown",
      "source": [
        "Simple Linear Regression"
      ],
      "metadata": {
        "id": "OxYu284QpevM"
      }
    },
    {
      "cell_type": "code",
      "source": [
        "from sklearn.linear_model import LinearRegression\n",
        "\n",
        "\n",
        "regressor = LinearRegression()\n",
        "\n",
        "\n",
        "regressor.fit(X_train,y_train)"
      ],
      "metadata": {
        "colab": {
          "base_uri": "https://localhost:8080/"
        },
        "id": "xVmQWrCPpYgT",
        "outputId": "5faad2f7-e056-4eed-9598-b2620de6cf1a"
      },
      "execution_count": null,
      "outputs": [
        {
          "output_type": "execute_result",
          "data": {
            "text/plain": [
              "LinearRegression()"
            ]
          },
          "metadata": {},
          "execution_count": 25
        }
      ]
    },
    {
      "cell_type": "code",
      "source": [
        "y_pred = regressor.predict(X_test)"
      ],
      "metadata": {
        "id": "vr3spIPUpiGE"
      },
      "execution_count": null,
      "outputs": []
    },
    {
      "cell_type": "code",
      "source": [
        "regressor.score(X_train,y_train)"
      ],
      "metadata": {
        "colab": {
          "base_uri": "https://localhost:8080/"
        },
        "id": "ukp1nOMXpmS6",
        "outputId": "a4fc637f-2d91-49da-a011-9bf32c9adcfc"
      },
      "execution_count": null,
      "outputs": [
        {
          "output_type": "execute_result",
          "data": {
            "text/plain": [
              "0.7368306228430945"
            ]
          },
          "metadata": {},
          "execution_count": 27
        }
      ]
    },
    {
      "cell_type": "code",
      "source": [
        "y_test"
      ],
      "metadata": {
        "colab": {
          "base_uri": "https://localhost:8080/"
        },
        "id": "V2qp7c2WpsWu",
        "outputId": "80719097-0193-4932-e39c-09c21488dbf4"
      },
      "execution_count": null,
      "outputs": [
        {
          "output_type": "execute_result",
          "data": {
            "text/plain": [
              "array([[-2.90360755e-01],\n",
              "       [-3.88647200e-01],\n",
              "       [ 2.71438394e+00],\n",
              "       [-2.09721124e-02],\n",
              "       [-2.97065319e-01],\n",
              "       [-7.26671304e-01],\n",
              "       [-9.18940714e-01],\n",
              "       [-1.47361673e-01],\n",
              "       [-4.73043767e-01],\n",
              "       [-6.49444142e-01],\n",
              "       [-5.38531882e-01],\n",
              "       [-2.26101189e-01],\n",
              "       [-4.89698454e-01],\n",
              "       [-7.52999425e-01],\n",
              "       [ 4.26736889e-01],\n",
              "       [-2.08671402e-01],\n",
              "       [-5.65894545e-02],\n",
              "       [-8.11006298e-01],\n",
              "       [-5.63185752e-01],\n",
              "       [ 1.69328373e+00],\n",
              "       [ 8.99164540e-01],\n",
              "       [-4.65863314e-02],\n",
              "       [ 8.22176839e-01],\n",
              "       [ 8.23835038e-01],\n",
              "       [-9.62666851e-01],\n",
              "       [-7.12701491e-01],\n",
              "       [-7.90788753e-01],\n",
              "       [-4.60891484e-01],\n",
              "       [-7.88784629e-01],\n",
              "       [-3.99857588e-01],\n",
              "       [-4.29404684e-01],\n",
              "       [ 2.98733744e+00],\n",
              "       [-1.85261566e-02],\n",
              "       [ 6.20458841e-01],\n",
              "       [ 1.14477957e-01],\n",
              "       [-7.56972780e-01],\n",
              "       [-4.05394683e-01],\n",
              "       [ 3.17310604e+00],\n",
              "       [ 2.23844447e+00],\n",
              "       [-9.45474413e-01],\n",
              "       [-6.46686140e-01],\n",
              "       [-8.63073476e-01],\n",
              "       [ 5.80290287e-01],\n",
              "       [ 2.86425349e+00],\n",
              "       [ 1.91658125e+00],\n",
              "       [ 1.07050601e+00],\n",
              "       [ 5.46888400e-01],\n",
              "       [-5.22841324e-01],\n",
              "       [-7.08475856e-01],\n",
              "       [ 7.50925765e-01],\n",
              "       [-8.60370040e-01],\n",
              "       [ 4.70830846e-01],\n",
              "       [ 8.65831844e-01],\n",
              "       [ 2.76057657e+00],\n",
              "       [ 9.20875224e-01],\n",
              "       [-8.29522299e-01],\n",
              "       [-9.08548487e-01],\n",
              "       [-3.65302549e-01],\n",
              "       [ 1.06664020e-01],\n",
              "       [-7.39773739e-03],\n",
              "       [-9.97802290e-01],\n",
              "       [ 2.79924934e+00],\n",
              "       [ 6.00189764e-02],\n",
              "       [-2.98222493e-01],\n",
              "       [-2.05812741e-01],\n",
              "       [-2.77370634e-01],\n",
              "       [ 1.61582334e+00],\n",
              "       [ 2.13346507e+00],\n",
              "       [-8.36899933e-01],\n",
              "       [-4.20799295e-01],\n",
              "       [-1.33010608e-02],\n",
              "       [-1.37549600e-01],\n",
              "       [ 2.53196612e-01],\n",
              "       [ 5.73585815e-02],\n",
              "       [-1.57825574e-02],\n",
              "       [ 1.32896510e-03],\n",
              "       [-5.05620452e-01],\n",
              "       [-4.56819420e-01],\n",
              "       [ 5.92612482e-01],\n",
              "       [ 2.85651858e+00],\n",
              "       [-1.28850805e-01],\n",
              "       [ 2.72784549e+00],\n",
              "       [-9.30872415e-01],\n",
              "       [-4.81070695e-01],\n",
              "       [ 2.32454159e+00],\n",
              "       [ 4.82004743e-01],\n",
              "       [-8.17706486e-01],\n",
              "       [-8.77066912e-01],\n",
              "       [-7.24391093e-02],\n",
              "       [ 1.97403980e+00],\n",
              "       [-5.73500131e-01],\n",
              "       [-2.49428402e-01],\n",
              "       [ 3.90670648e-01],\n",
              "       [-3.91314126e-01],\n",
              "       [-7.25127319e-01],\n",
              "       [-6.72534245e-01],\n",
              "       [ 2.43056442e+00],\n",
              "       [ 2.15452739e+00],\n",
              "       [-6.57597364e-01],\n",
              "       [-2.17044634e-01],\n",
              "       [-9.50168221e-01],\n",
              "       [-6.53416690e-01],\n",
              "       [-7.39272172e-01],\n",
              "       [ 2.04963208e+00],\n",
              "       [ 1.63579385e+00],\n",
              "       [-8.22454756e-01],\n",
              "       [-2.19157456e-01],\n",
              "       [-8.05462985e-01],\n",
              "       [-1.04946871e-01],\n",
              "       [ 3.28971883e+00],\n",
              "       [-6.06194588e-02],\n",
              "       [-7.46228849e-01],\n",
              "       [-3.30034401e-01],\n",
              "       [ 1.71473679e+00],\n",
              "       [ 2.96272239e+00],\n",
              "       [-4.56968194e-01],\n",
              "       [-9.38434485e-01],\n",
              "       [-3.97267635e-01],\n",
              "       [-7.13246538e-02],\n",
              "       [-3.25658230e-01],\n",
              "       [ 2.41560005e+00],\n",
              "       [-2.68102743e-01],\n",
              "       [ 9.33597777e-02],\n",
              "       [-6.49134764e-01],\n",
              "       [-4.65541479e-01],\n",
              "       [-6.92757382e-01],\n",
              "       [ 8.51887266e-01],\n",
              "       [ 6.59567554e-01],\n",
              "       [ 2.92078359e+00],\n",
              "       [-9.42398352e-01],\n",
              "       [-4.16081596e-01],\n",
              "       [-9.58414148e-01],\n",
              "       [-6.03358623e-01],\n",
              "       [-3.20694522e-01],\n",
              "       [ 7.46883098e-01],\n",
              "       [ 1.86163990e+00],\n",
              "       [ 5.27358555e-01],\n",
              "       [-2.58399451e-01],\n",
              "       [ 8.38815502e-01],\n",
              "       [-8.69593024e-01],\n",
              "       [-9.13647472e-01],\n",
              "       [-2.17703039e-01],\n",
              "       [-3.25423684e-01],\n",
              "       [-2.31018736e-01],\n",
              "       [-6.93730889e-01],\n",
              "       [ 9.29267653e-02],\n",
              "       [ 1.26000246e+00],\n",
              "       [ 1.02299712e-01],\n",
              "       [-9.66621385e-01],\n",
              "       [ 1.02859393e+00],\n",
              "       [-5.55065615e-01],\n",
              "       [ 2.20574120e+00],\n",
              "       [-2.70355845e-01],\n",
              "       [-9.58848321e-01],\n",
              "       [-8.74516334e-01],\n",
              "       [-5.59645243e-01],\n",
              "       [-8.81768926e-01],\n",
              "       [-9.58924940e-01],\n",
              "       [-1.76688902e-01],\n",
              "       [-2.57748997e-01],\n",
              "       [-6.97725787e-01],\n",
              "       [-1.82324511e-02],\n",
              "       [ 1.31305595e+00],\n",
              "       [-3.18187398e-01],\n",
              "       [-7.23005264e-01],\n",
              "       [ 3.27993000e-01],\n",
              "       [ 5.37287088e-02],\n",
              "       [-5.91966861e-01],\n",
              "       [-7.31609359e-01],\n",
              "       [-9.66063543e-01],\n",
              "       [-7.63554803e-01],\n",
              "       [-7.32120398e-01],\n",
              "       [-4.08428463e-01],\n",
              "       [-9.36584292e-01],\n",
              "       [-7.46681664e-01],\n",
              "       [-7.26310246e-01],\n",
              "       [-7.32638736e-01],\n",
              "       [-5.91610789e-01],\n",
              "       [ 1.41843812e+00],\n",
              "       [-9.59802753e-01],\n",
              "       [-1.68164295e-01],\n",
              "       [-5.34871713e-01],\n",
              "       [-1.54049513e-01],\n",
              "       [-8.93866756e-01],\n",
              "       [ 1.18383523e+00],\n",
              "       [ 1.24442107e+00],\n",
              "       [-9.14213060e-01],\n",
              "       [-8.85568088e-01],\n",
              "       [ 1.24565061e-01],\n",
              "       [-2.36376599e-01],\n",
              "       [ 2.32979820e+00],\n",
              "       [-7.69963561e-01],\n",
              "       [-6.45483277e-01],\n",
              "       [ 6.70017391e-01],\n",
              "       [-8.90861856e-01],\n",
              "       [-9.37752148e-01],\n",
              "       [-5.67481274e-01],\n",
              "       [-5.55342913e-01],\n",
              "       [-7.63604608e-01],\n",
              "       [-7.48114316e-01],\n",
              "       [-1.41042179e-01],\n",
              "       [ 2.81353898e+00],\n",
              "       [-7.78840854e-02],\n",
              "       [ 5.01000680e-01],\n",
              "       [-7.32262920e-01],\n",
              "       [ 2.48620038e+00],\n",
              "       [ 8.38538586e-01],\n",
              "       [-3.39099724e-01],\n",
              "       [-6.15077000e-01],\n",
              "       [-1.00653320e+00],\n",
              "       [-3.70477358e-01],\n",
              "       [ 7.03462137e-02],\n",
              "       [-6.58869367e-01],\n",
              "       [-2.00879657e-01],\n",
              "       [-5.77852099e-01],\n",
              "       [-9.38030762e-01],\n",
              "       [-5.39057665e-01],\n",
              "       [-6.55369589e-01],\n",
              "       [ 6.68226169e-02],\n",
              "       [-5.28097049e-01],\n",
              "       [-5.85016802e-01],\n",
              "       [-4.35518476e-01],\n",
              "       [-4.11210940e-01],\n",
              "       [-8.34730048e-01],\n",
              "       [-1.13002399e-01],\n",
              "       [ 8.42985590e-02],\n",
              "       [-7.81451063e-02],\n",
              "       [-1.13919503e-01],\n",
              "       [-5.46926144e-01],\n",
              "       [-9.23996541e-01],\n",
              "       [-1.00802727e+00],\n",
              "       [-4.05750096e-01],\n",
              "       [-7.98969578e-02],\n",
              "       [-7.21589336e-01],\n",
              "       [ 3.69569057e-01],\n",
              "       [-5.28265679e-01],\n",
              "       [-3.13507387e-01],\n",
              "       [ 1.75827995e+00],\n",
              "       [-5.95817370e-01],\n",
              "       [-1.22895989e-01],\n",
              "       [-6.52909055e-01],\n",
              "       [ 2.02647840e+00],\n",
              "       [-4.86856860e-01],\n",
              "       [-4.90759108e-01],\n",
              "       [-4.00142900e-01],\n",
              "       [-2.28770938e-01],\n",
              "       [-8.28601779e-01],\n",
              "       [-4.57168013e-01],\n",
              "       [-8.74365639e-01],\n",
              "       [-5.29725679e-01],\n",
              "       [ 5.27895287e-01],\n",
              "       [ 2.84828586e+00],\n",
              "       [-7.69466699e-01],\n",
              "       [-8.32062140e-01],\n",
              "       [-4.90868798e-01],\n",
              "       [-9.60166692e-01],\n",
              "       [-4.80664383e-01],\n",
              "       [-9.66408328e-01],\n",
              "       [-6.95131663e-01],\n",
              "       [-8.05048187e-01],\n",
              "       [-3.83830738e-01],\n",
              "       [ 9.45339690e-01],\n",
              "       [ 2.71506757e+00],\n",
              "       [ 1.51882809e-01],\n",
              "       [-5.45910811e-01],\n",
              "       [ 6.27034732e-01],\n",
              "       [ 2.31604020e+00],\n",
              "       [-3.09065045e-01]])"
            ]
          },
          "metadata": {},
          "execution_count": 28
        }
      ]
    },
    {
      "cell_type": "code",
      "source": [
        "X_test"
      ],
      "metadata": {
        "colab": {
          "base_uri": "https://localhost:8080/",
          "height": 424
        },
        "id": "5r00B6nXpus7",
        "outputId": "3116a94c-b7b7-44d2-8475-3863f4e486b6"
      },
      "execution_count": null,
      "outputs": [
        {
          "output_type": "execute_result",
          "data": {
            "text/html": [
              "\n",
              "  <div id=\"df-3da89d5b-3705-4344-aa27-45d7ecd13b9b\">\n",
              "    <div class=\"colab-df-container\">\n",
              "      <div>\n",
              "<style scoped>\n",
              "    .dataframe tbody tr th:only-of-type {\n",
              "        vertical-align: middle;\n",
              "    }\n",
              "\n",
              "    .dataframe tbody tr th {\n",
              "        vertical-align: top;\n",
              "    }\n",
              "\n",
              "    .dataframe thead th {\n",
              "        text-align: right;\n",
              "    }\n",
              "</style>\n",
              "<table border=\"1\" class=\"dataframe\">\n",
              "  <thead>\n",
              "    <tr style=\"text-align: right;\">\n",
              "      <th></th>\n",
              "      <th>age</th>\n",
              "      <th>sex</th>\n",
              "      <th>bmi</th>\n",
              "      <th>children</th>\n",
              "      <th>smoker</th>\n",
              "      <th>region</th>\n",
              "    </tr>\n",
              "  </thead>\n",
              "  <tbody>\n",
              "    <tr>\n",
              "      <th>578</th>\n",
              "      <td>52</td>\n",
              "      <td>1</td>\n",
              "      <td>30.200</td>\n",
              "      <td>1</td>\n",
              "      <td>0</td>\n",
              "      <td>3</td>\n",
              "    </tr>\n",
              "    <tr>\n",
              "      <th>610</th>\n",
              "      <td>47</td>\n",
              "      <td>0</td>\n",
              "      <td>29.370</td>\n",
              "      <td>1</td>\n",
              "      <td>0</td>\n",
              "      <td>2</td>\n",
              "    </tr>\n",
              "    <tr>\n",
              "      <th>569</th>\n",
              "      <td>48</td>\n",
              "      <td>1</td>\n",
              "      <td>40.565</td>\n",
              "      <td>2</td>\n",
              "      <td>1</td>\n",
              "      <td>1</td>\n",
              "    </tr>\n",
              "    <tr>\n",
              "      <th>1034</th>\n",
              "      <td>61</td>\n",
              "      <td>1</td>\n",
              "      <td>38.380</td>\n",
              "      <td>0</td>\n",
              "      <td>0</td>\n",
              "      <td>1</td>\n",
              "    </tr>\n",
              "    <tr>\n",
              "      <th>198</th>\n",
              "      <td>51</td>\n",
              "      <td>0</td>\n",
              "      <td>18.050</td>\n",
              "      <td>0</td>\n",
              "      <td>0</td>\n",
              "      <td>1</td>\n",
              "    </tr>\n",
              "    <tr>\n",
              "      <th>...</th>\n",
              "      <td>...</td>\n",
              "      <td>...</td>\n",
              "      <td>...</td>\n",
              "      <td>...</td>\n",
              "      <td>...</td>\n",
              "      <td>...</td>\n",
              "    </tr>\n",
              "    <tr>\n",
              "      <th>1084</th>\n",
              "      <td>62</td>\n",
              "      <td>0</td>\n",
              "      <td>30.495</td>\n",
              "      <td>2</td>\n",
              "      <td>0</td>\n",
              "      <td>1</td>\n",
              "    </tr>\n",
              "    <tr>\n",
              "      <th>726</th>\n",
              "      <td>41</td>\n",
              "      <td>1</td>\n",
              "      <td>28.405</td>\n",
              "      <td>1</td>\n",
              "      <td>0</td>\n",
              "      <td>1</td>\n",
              "    </tr>\n",
              "    <tr>\n",
              "      <th>1132</th>\n",
              "      <td>57</td>\n",
              "      <td>1</td>\n",
              "      <td>40.280</td>\n",
              "      <td>0</td>\n",
              "      <td>0</td>\n",
              "      <td>0</td>\n",
              "    </tr>\n",
              "    <tr>\n",
              "      <th>725</th>\n",
              "      <td>30</td>\n",
              "      <td>0</td>\n",
              "      <td>39.050</td>\n",
              "      <td>3</td>\n",
              "      <td>1</td>\n",
              "      <td>2</td>\n",
              "    </tr>\n",
              "    <tr>\n",
              "      <th>963</th>\n",
              "      <td>46</td>\n",
              "      <td>1</td>\n",
              "      <td>24.795</td>\n",
              "      <td>3</td>\n",
              "      <td>0</td>\n",
              "      <td>0</td>\n",
              "    </tr>\n",
              "  </tbody>\n",
              "</table>\n",
              "<p>268 rows × 6 columns</p>\n",
              "</div>\n",
              "      <button class=\"colab-df-convert\" onclick=\"convertToInteractive('df-3da89d5b-3705-4344-aa27-45d7ecd13b9b')\"\n",
              "              title=\"Convert this dataframe to an interactive table.\"\n",
              "              style=\"display:none;\">\n",
              "        \n",
              "  <svg xmlns=\"http://www.w3.org/2000/svg\" height=\"24px\"viewBox=\"0 0 24 24\"\n",
              "       width=\"24px\">\n",
              "    <path d=\"M0 0h24v24H0V0z\" fill=\"none\"/>\n",
              "    <path d=\"M18.56 5.44l.94 2.06.94-2.06 2.06-.94-2.06-.94-.94-2.06-.94 2.06-2.06.94zm-11 1L8.5 8.5l.94-2.06 2.06-.94-2.06-.94L8.5 2.5l-.94 2.06-2.06.94zm10 10l.94 2.06.94-2.06 2.06-.94-2.06-.94-.94-2.06-.94 2.06-2.06.94z\"/><path d=\"M17.41 7.96l-1.37-1.37c-.4-.4-.92-.59-1.43-.59-.52 0-1.04.2-1.43.59L10.3 9.45l-7.72 7.72c-.78.78-.78 2.05 0 2.83L4 21.41c.39.39.9.59 1.41.59.51 0 1.02-.2 1.41-.59l7.78-7.78 2.81-2.81c.8-.78.8-2.07 0-2.86zM5.41 20L4 18.59l7.72-7.72 1.47 1.35L5.41 20z\"/>\n",
              "  </svg>\n",
              "      </button>\n",
              "      \n",
              "  <style>\n",
              "    .colab-df-container {\n",
              "      display:flex;\n",
              "      flex-wrap:wrap;\n",
              "      gap: 12px;\n",
              "    }\n",
              "\n",
              "    .colab-df-convert {\n",
              "      background-color: #E8F0FE;\n",
              "      border: none;\n",
              "      border-radius: 50%;\n",
              "      cursor: pointer;\n",
              "      display: none;\n",
              "      fill: #1967D2;\n",
              "      height: 32px;\n",
              "      padding: 0 0 0 0;\n",
              "      width: 32px;\n",
              "    }\n",
              "\n",
              "    .colab-df-convert:hover {\n",
              "      background-color: #E2EBFA;\n",
              "      box-shadow: 0px 1px 2px rgba(60, 64, 67, 0.3), 0px 1px 3px 1px rgba(60, 64, 67, 0.15);\n",
              "      fill: #174EA6;\n",
              "    }\n",
              "\n",
              "    [theme=dark] .colab-df-convert {\n",
              "      background-color: #3B4455;\n",
              "      fill: #D2E3FC;\n",
              "    }\n",
              "\n",
              "    [theme=dark] .colab-df-convert:hover {\n",
              "      background-color: #434B5C;\n",
              "      box-shadow: 0px 1px 3px 1px rgba(0, 0, 0, 0.15);\n",
              "      filter: drop-shadow(0px 1px 2px rgba(0, 0, 0, 0.3));\n",
              "      fill: #FFFFFF;\n",
              "    }\n",
              "  </style>\n",
              "\n",
              "      <script>\n",
              "        const buttonEl =\n",
              "          document.querySelector('#df-3da89d5b-3705-4344-aa27-45d7ecd13b9b button.colab-df-convert');\n",
              "        buttonEl.style.display =\n",
              "          google.colab.kernel.accessAllowed ? 'block' : 'none';\n",
              "\n",
              "        async function convertToInteractive(key) {\n",
              "          const element = document.querySelector('#df-3da89d5b-3705-4344-aa27-45d7ecd13b9b');\n",
              "          const dataTable =\n",
              "            await google.colab.kernel.invokeFunction('convertToInteractive',\n",
              "                                                     [key], {});\n",
              "          if (!dataTable) return;\n",
              "\n",
              "          const docLinkHtml = 'Like what you see? Visit the ' +\n",
              "            '<a target=\"_blank\" href=https://colab.research.google.com/notebooks/data_table.ipynb>data table notebook</a>'\n",
              "            + ' to learn more about interactive tables.';\n",
              "          element.innerHTML = '';\n",
              "          dataTable['output_type'] = 'display_data';\n",
              "          await google.colab.output.renderOutput(dataTable, element);\n",
              "          const docLink = document.createElement('div');\n",
              "          docLink.innerHTML = docLinkHtml;\n",
              "          element.appendChild(docLink);\n",
              "        }\n",
              "      </script>\n",
              "    </div>\n",
              "  </div>\n",
              "  "
            ],
            "text/plain": [
              "      age  sex     bmi  children  smoker  region\n",
              "578    52    1  30.200         1       0       3\n",
              "610    47    0  29.370         1       0       2\n",
              "569    48    1  40.565         2       1       1\n",
              "1034   61    1  38.380         0       0       1\n",
              "198    51    0  18.050         0       0       1\n",
              "...   ...  ...     ...       ...     ...     ...\n",
              "1084   62    0  30.495         2       0       1\n",
              "726    41    1  28.405         1       0       1\n",
              "1132   57    1  40.280         0       0       0\n",
              "725    30    0  39.050         3       1       2\n",
              "963    46    1  24.795         3       0       0\n",
              "\n",
              "[268 rows x 6 columns]"
            ]
          },
          "metadata": {},
          "execution_count": 29
        }
      ]
    },
    {
      "cell_type": "code",
      "source": [
        "y_pred"
      ],
      "metadata": {
        "colab": {
          "base_uri": "https://localhost:8080/"
        },
        "id": "84X1_cspp1jy",
        "outputId": "c1c4b54a-e5ea-4bf9-daea-36546e55d417"
      },
      "execution_count": null,
      "outputs": [
        {
          "output_type": "execute_result",
          "data": {
            "text/plain": [
              "array([[-1.82397841e-01],\n",
              "       [-2.85099148e-01],\n",
              "       [ 2.07069569e+00],\n",
              "       [ 2.44003975e-01],\n",
              "       [-5.23689076e-01],\n",
              "       [-7.71045640e-01],\n",
              "       [-9.72926790e-01],\n",
              "       [ 9.03680276e-02],\n",
              "       [-3.54761076e-01],\n",
              "       [-4.81831323e-01],\n",
              "       [-7.22976711e-01],\n",
              "       [-2.46702450e-01],\n",
              "       [-3.79509044e-01],\n",
              "       [-7.57918614e-01],\n",
              "       [ 1.22019971e+00],\n",
              "       [-1.80529836e-01],\n",
              "       [-1.62836802e-01],\n",
              "       [-5.98833743e-01],\n",
              "       [-4.19907641e-01],\n",
              "       [ 1.15573478e+00],\n",
              "       [ 1.70180511e+00],\n",
              "       [ 8.90214986e-02],\n",
              "       [-1.26625563e-01],\n",
              "       [ 1.60401397e+00],\n",
              "       [-7.33827716e-01],\n",
              "       [-3.38672047e-01],\n",
              "       [-1.00833105e+00],\n",
              "       [-2.59908886e-01],\n",
              "       [-7.61123005e-01],\n",
              "       [-2.37545828e-01],\n",
              "       [-3.54025144e-01],\n",
              "       [ 2.25865181e+00],\n",
              "       [ 1.90146991e-01],\n",
              "       [ 3.89151803e-02],\n",
              "       [ 9.63818549e-01],\n",
              "       [-6.74078969e-01],\n",
              "       [-2.99239284e-02],\n",
              "       [ 1.44695638e+00],\n",
              "       [ 1.68936662e+00],\n",
              "       [-8.11207953e-01],\n",
              "       [-7.68278186e-01],\n",
              "       [-7.45239884e-01],\n",
              "       [ 1.44152480e+00],\n",
              "       [ 2.18381034e+00],\n",
              "       [ 1.23623931e+00],\n",
              "       [-6.84691036e-01],\n",
              "       [-1.89580850e-01],\n",
              "       [-4.52889275e-01],\n",
              "       [-8.01172357e-01],\n",
              "       [-2.20805121e-01],\n",
              "       [-6.32359617e-01],\n",
              "       [-8.20337141e-01],\n",
              "       [ 1.64082144e+00],\n",
              "       [ 2.10111294e+00],\n",
              "       [ 2.55120272e-01],\n",
              "       [-5.12693942e-01],\n",
              "       [-6.03721743e-01],\n",
              "       [-3.17640969e-01],\n",
              "       [-3.29340362e-01],\n",
              "       [-1.25777709e-01],\n",
              "       [-9.60617851e-01],\n",
              "       [ 2.13896226e+00],\n",
              "       [ 1.65331108e-01],\n",
              "       [-1.30166837e-01],\n",
              "       [ 6.50081332e-02],\n",
              "       [ 5.34949868e-02],\n",
              "       [ 1.07440023e+00],\n",
              "       [ 1.57777478e+00],\n",
              "       [-1.00472724e+00],\n",
              "       [-2.59068889e-01],\n",
              "       [-8.13655125e-02],\n",
              "       [-1.14224475e-01],\n",
              "       [ 9.90606910e-01],\n",
              "       [ 2.22401685e-01],\n",
              "       [-1.68622065e-01],\n",
              "       [-4.81195816e-02],\n",
              "       [-5.63409078e-01],\n",
              "       [-2.77505697e-01],\n",
              "       [ 1.41473961e+00],\n",
              "       [ 2.14423359e+00],\n",
              "       [-9.90977496e-02],\n",
              "       [ 2.02300285e+00],\n",
              "       [-7.55261588e-01],\n",
              "       [-3.30886920e-01],\n",
              "       [ 1.79793834e+00],\n",
              "       [ 1.33094409e+00],\n",
              "       [-3.97283938e-01],\n",
              "       [-6.99072231e-01],\n",
              "       [-1.07962513e-01],\n",
              "       [ 1.42215269e+00],\n",
              "       [-2.67733528e-01],\n",
              "       [-1.64046952e-01],\n",
              "       [-4.12753710e-01],\n",
              "       [-3.32703571e-01],\n",
              "       [-4.06262348e-01],\n",
              "       [-4.95581817e-01],\n",
              "       [ 1.89818018e+00],\n",
              "       [ 1.65336972e+00],\n",
              "       [-4.69958185e-01],\n",
              "       [ 1.42409851e-01],\n",
              "       [-7.45802041e-01],\n",
              "       [-3.74323628e-01],\n",
              "       [-5.51520686e-01],\n",
              "       [ 1.54966275e+00],\n",
              "       [ 1.64435668e+00],\n",
              "       [-9.38993072e-01],\n",
              "       [-3.56767285e-01],\n",
              "       [-5.52997055e-01],\n",
              "       [ 1.08054256e-01],\n",
              "       [ 1.98996617e+00],\n",
              "       [-2.55072202e-01],\n",
              "       [-2.03392281e-01],\n",
              "       [-2.53230336e-01],\n",
              "       [ 1.14197088e+00],\n",
              "       [ 2.24337940e+00],\n",
              "       [-3.96945901e-01],\n",
              "       [-1.08610904e+00],\n",
              "       [-3.60620720e-01],\n",
              "       [ 1.55339713e-01],\n",
              "       [-3.09553756e-01],\n",
              "       [ 1.85156717e+00],\n",
              "       [-4.94659566e-01],\n",
              "       [ 2.97686789e-01],\n",
              "       [-3.04373717e-01],\n",
              "       [-4.24121874e-01],\n",
              "       [-8.56322169e-01],\n",
              "       [ 1.64250043e+00],\n",
              "       [ 1.52241685e+00],\n",
              "       [ 2.18470010e+00],\n",
              "       [-6.46194567e-01],\n",
              "       [-2.99610213e-01],\n",
              "       [-7.81619525e-01],\n",
              "       [-4.39809622e-01],\n",
              "       [-3.81767761e-01],\n",
              "       [ 1.53134062e+00],\n",
              "       [ 1.38358067e+00],\n",
              "       [ 1.40842568e+00],\n",
              "       [-3.44303125e-01],\n",
              "       [ 1.63258421e+00],\n",
              "       [-8.27269517e-01],\n",
              "       [-8.00866708e-01],\n",
              "       [-1.77704607e-01],\n",
              "       [ 1.56122203e-02],\n",
              "       [-3.41197351e-02],\n",
              "       [-6.51252624e-01],\n",
              "       [ 2.19478374e-01],\n",
              "       [ 1.65558863e-01],\n",
              "       [-9.02825079e-01],\n",
              "       [-1.10290961e+00],\n",
              "       [-1.97691452e-01],\n",
              "       [-4.85557236e-01],\n",
              "       [ 1.56993854e+00],\n",
              "       [-7.37267932e-02],\n",
              "       [-8.84197683e-01],\n",
              "       [-5.73967149e-01],\n",
              "       [-4.21520208e-01],\n",
              "       [-7.39047255e-01],\n",
              "       [-9.02299711e-01],\n",
              "       [-1.57531458e-01],\n",
              "       [-6.22283432e-02],\n",
              "       [-5.00897235e-01],\n",
              "       [ 2.83633569e-01],\n",
              "       [-1.19115761e-01],\n",
              "       [ 5.69489279e-02],\n",
              "       [-8.34889923e-01],\n",
              "       [-4.98814774e-01],\n",
              "       [ 8.17832741e-01],\n",
              "       [-4.71337900e-01],\n",
              "       [-6.46500216e-01],\n",
              "       [-6.50711839e-01],\n",
              "       [-5.46418229e-01],\n",
              "       [-6.70473705e-01],\n",
              "       [-2.72728567e-01],\n",
              "       [-6.34079176e-01],\n",
              "       [-6.35855062e-01],\n",
              "       [-5.24970170e-01],\n",
              "       [-7.92936667e-01],\n",
              "       [-6.38990414e-01],\n",
              "       [ 2.07075801e+00],\n",
              "       [-9.80169502e-01],\n",
              "       [-5.31524924e-02],\n",
              "       [-3.59766159e-01],\n",
              "       [ 3.92957054e-02],\n",
              "       [-6.30781092e-01],\n",
              "       [-6.68265909e-01],\n",
              "       [ 1.93723427e+00],\n",
              "       [-7.41588498e-01],\n",
              "       [-9.42184609e-01],\n",
              "       [ 1.61154762e-01],\n",
              "       [-4.84000846e-02],\n",
              "       [ 1.82338369e+00],\n",
              "       [-6.78422268e-01],\n",
              "       [-6.37707383e-01],\n",
              "       [ 1.52966803e+00],\n",
              "       [-5.95216399e-01],\n",
              "       [-9.34093437e-01],\n",
              "       [-4.01391326e-01],\n",
              "       [-2.69971157e-01],\n",
              "       [-4.14676301e-01],\n",
              "       [-6.23694978e-01],\n",
              "       [-8.05709450e-03],\n",
              "       [ 2.12853404e+00],\n",
              "       [ 3.91472287e-02],\n",
              "       [ 1.29672593e+00],\n",
              "       [-5.43076702e-01],\n",
              "       [ 1.88243344e+00],\n",
              "       [-7.88829375e-01],\n",
              "       [-8.83949345e-02],\n",
              "       [-3.24589486e-01],\n",
              "       [-5.65250226e-01],\n",
              "       [-1.61460440e-01],\n",
              "       [ 1.08952047e-01],\n",
              "       [-6.73717724e-01],\n",
              "       [-7.44827045e-01],\n",
              "       [-4.54136063e-01],\n",
              "       [-9.99918993e-01],\n",
              "       [-4.48079237e-01],\n",
              "       [-7.32322990e-01],\n",
              "       [ 1.33368031e-03],\n",
              "       [-7.43298337e-01],\n",
              "       [-2.74144134e-01],\n",
              "       [-4.99661311e-01],\n",
              "       [-3.37931824e-01],\n",
              "       [-9.02605559e-01],\n",
              "       [-1.06098448e-02],\n",
              "       [ 2.94614177e-01],\n",
              "       [ 1.66132821e-01],\n",
              "       [-2.27285635e-01],\n",
              "       [-6.30202364e-01],\n",
              "       [-8.90430880e-01],\n",
              "       [-9.18239772e-01],\n",
              "       [ 1.56291997e-02],\n",
              "       [ 9.22957131e-02],\n",
              "       [-6.86593884e-01],\n",
              "       [-7.60174274e-01],\n",
              "       [-3.23824098e-01],\n",
              "       [-2.70824385e-01],\n",
              "       [ 1.25100807e+00],\n",
              "       [-4.66743998e-01],\n",
              "       [-2.26714272e-01],\n",
              "       [-5.85714590e-01],\n",
              "       [ 1.37830753e+00],\n",
              "       [-1.87398732e-01],\n",
              "       [-4.76481385e-01],\n",
              "       [-2.53334565e-01],\n",
              "       [-8.66639518e-02],\n",
              "       [-8.52835518e-01],\n",
              "       [-2.02958268e-01],\n",
              "       [-9.74060521e-01],\n",
              "       [-5.15146404e-01],\n",
              "       [ 1.29554175e+00],\n",
              "       [ 2.11329766e+00],\n",
              "       [-5.85128830e-01],\n",
              "       [-4.01806569e-01],\n",
              "       [-8.94758942e-01],\n",
              "       [-1.06615413e+00],\n",
              "       [-2.34891317e-01],\n",
              "       [-7.32170965e-01],\n",
              "       [-6.91905950e-01],\n",
              "       [-8.78305921e-01],\n",
              "       [-5.02832317e-01],\n",
              "       [ 1.67430749e+00],\n",
              "       [ 2.08314759e+00],\n",
              "       [ 1.25102029e-01],\n",
              "       [-4.16778912e-01],\n",
              "       [ 2.35360442e-01],\n",
              "       [ 1.66230939e+00],\n",
              "       [-3.11514235e-01]])"
            ]
          },
          "metadata": {},
          "execution_count": 30
        }
      ]
    },
    {
      "cell_type": "markdown",
      "source": [
        "Mean Absoulte Error"
      ],
      "metadata": {
        "id": "WKryIIkiqDHA"
      }
    },
    {
      "cell_type": "code",
      "source": [
        "from sklearn.metrics import mean_absolute_error\n",
        "\n",
        "\n",
        "mean_absolute_error(y_test, y_pred)"
      ],
      "metadata": {
        "colab": {
          "base_uri": "https://localhost:8080/"
        },
        "id": "iiBQCYvhp5oq",
        "outputId": "b3d3cbc1-e131-4549-ff24-fd56ac383743"
      },
      "execution_count": null,
      "outputs": [
        {
          "output_type": "execute_result",
          "data": {
            "text/plain": [
              "0.328251006254937"
            ]
          },
          "metadata": {},
          "execution_count": 31
        }
      ]
    },
    {
      "cell_type": "markdown",
      "source": [
        "Mean Squared Error"
      ],
      "metadata": {
        "id": "3nG1oLFTqNMa"
      }
    },
    {
      "cell_type": "code",
      "source": [
        "from sklearn.metrics import mean_squared_error\n",
        "\n",
        "mean_squared_error(y_test, y_pred)"
      ],
      "metadata": {
        "colab": {
          "base_uri": "https://localhost:8080/"
        },
        "id": "5JKtRNQgqHnJ",
        "outputId": "9a390886-00a3-4c6f-f7b6-65639b074d64"
      },
      "execution_count": null,
      "outputs": [
        {
          "output_type": "execute_result",
          "data": {
            "text/plain": [
              "0.22213004284614"
            ]
          },
          "metadata": {},
          "execution_count": 32
        }
      ]
    },
    {
      "cell_type": "markdown",
      "source": [
        "R-Squared Error"
      ],
      "metadata": {
        "id": "JVlG9lWLqRxL"
      }
    },
    {
      "cell_type": "code",
      "source": [
        "from sklearn.metrics import r2_score\n",
        "\n",
        "r2_score(y_test, y_pred)"
      ],
      "metadata": {
        "colab": {
          "base_uri": "https://localhost:8080/"
        },
        "id": "PmaBOiBuqXh6",
        "outputId": "6dd9111c-8218-4d3e-cd04-5beead992464"
      },
      "execution_count": null,
      "outputs": [
        {
          "output_type": "execute_result",
          "data": {
            "text/plain": [
              "0.7998747145449959"
            ]
          },
          "metadata": {},
          "execution_count": 33
        }
      ]
    },
    {
      "cell_type": "code",
      "source": [
        "regressor.score(X_train,y_train)"
      ],
      "metadata": {
        "colab": {
          "base_uri": "https://localhost:8080/"
        },
        "id": "wggIrWQYqaL2",
        "outputId": "f9f68790-e99d-479f-cfeb-f679717d81d6"
      },
      "execution_count": null,
      "outputs": [
        {
          "output_type": "execute_result",
          "data": {
            "text/plain": [
              "0.7368306228430945"
            ]
          },
          "metadata": {},
          "execution_count": 34
        }
      ]
    },
    {
      "cell_type": "markdown",
      "source": [
        "Support Vector Regression (SVR)"
      ],
      "metadata": {
        "id": "AukIup_Eqf34"
      }
    },
    {
      "cell_type": "code",
      "source": [
        "from sklearn.svm import SVR \n",
        "\n",
        "regressor = SVR(kernel = 'linear')\n",
        "regressor.fit(X_train,y_train)"
      ],
      "metadata": {
        "colab": {
          "base_uri": "https://localhost:8080/"
        },
        "id": "02D4uPkLqeTN",
        "outputId": "2daf5297-fa02-440c-c048-41f00b599df5"
      },
      "execution_count": null,
      "outputs": [
        {
          "output_type": "stream",
          "name": "stderr",
          "text": [
            "/usr/local/lib/python3.7/dist-packages/sklearn/utils/validation.py:985: DataConversionWarning: A column-vector y was passed when a 1d array was expected. Please change the shape of y to (n_samples, ), for example using ravel().\n",
            "  y = column_or_1d(y, warn=True)\n"
          ]
        },
        {
          "output_type": "execute_result",
          "data": {
            "text/plain": [
              "SVR(kernel='linear')"
            ]
          },
          "metadata": {},
          "execution_count": 35
        }
      ]
    },
    {
      "cell_type": "code",
      "source": [
        "y_pred = regressor.predict(X_test)"
      ],
      "metadata": {
        "id": "rGJKItWzqpdl"
      },
      "execution_count": null,
      "outputs": []
    },
    {
      "cell_type": "code",
      "source": [
        "regressor.score(X_train,y_train)"
      ],
      "metadata": {
        "colab": {
          "base_uri": "https://localhost:8080/"
        },
        "id": "52r1VzrSqtCv",
        "outputId": "2c5c96e3-1844-43f4-ba48-8530c4f613d3"
      },
      "execution_count": null,
      "outputs": [
        {
          "output_type": "execute_result",
          "data": {
            "text/plain": [
              "0.6795638290744734"
            ]
          },
          "metadata": {},
          "execution_count": 37
        }
      ]
    },
    {
      "cell_type": "code",
      "source": [
        "r2_score(y_test, y_pred)"
      ],
      "metadata": {
        "colab": {
          "base_uri": "https://localhost:8080/"
        },
        "id": "JK-q-As3qwCf",
        "outputId": "e8f77451-8b36-4466-f0ef-ecbe962a34fe"
      },
      "execution_count": null,
      "outputs": [
        {
          "output_type": "execute_result",
          "data": {
            "text/plain": [
              "0.7689076024715965"
            ]
          },
          "metadata": {},
          "execution_count": 38
        }
      ]
    },
    {
      "cell_type": "code",
      "source": [
        "mean_absolute_error(y_test, y_pred)"
      ],
      "metadata": {
        "colab": {
          "base_uri": "https://localhost:8080/"
        },
        "id": "tz7NV5pzqztf",
        "outputId": "53128a60-3a5f-4ffc-d850-b1766d9293a4"
      },
      "execution_count": null,
      "outputs": [
        {
          "output_type": "execute_result",
          "data": {
            "text/plain": [
              "0.26206449818981736"
            ]
          },
          "metadata": {},
          "execution_count": 39
        }
      ]
    },
    {
      "cell_type": "code",
      "source": [
        "mean_squared_error(y_test, y_pred)"
      ],
      "metadata": {
        "colab": {
          "base_uri": "https://localhost:8080/"
        },
        "id": "obEsPgK2q4g3",
        "outputId": "675a7b96-a402-4b0c-8591-7708db702ab4"
      },
      "execution_count": null,
      "outputs": [
        {
          "output_type": "execute_result",
          "data": {
            "text/plain": [
              "0.25650214088485607"
            ]
          },
          "metadata": {},
          "execution_count": 40
        }
      ]
    },
    {
      "cell_type": "code",
      "source": [
        "from sklearn.tree import DecisionTreeRegressor\n",
        "\n",
        "\n",
        "regressor = DecisionTreeRegressor(random_state = 0)\n",
        "regressor.fit(X_train,y_train)"
      ],
      "metadata": {
        "colab": {
          "base_uri": "https://localhost:8080/"
        },
        "id": "ZprZWqg2q7sg",
        "outputId": "4024b5d9-a0e8-4784-e8a7-48ddb6947524"
      },
      "execution_count": null,
      "outputs": [
        {
          "output_type": "execute_result",
          "data": {
            "text/plain": [
              "DecisionTreeRegressor(random_state=0)"
            ]
          },
          "metadata": {},
          "execution_count": 41
        }
      ]
    },
    {
      "cell_type": "code",
      "source": [
        "y_pred = regressor.predict(X_test)\n",
        "r2_score(y_test, y_pred)"
      ],
      "metadata": {
        "colab": {
          "base_uri": "https://localhost:8080/"
        },
        "id": "5AkWu7Naq_oe",
        "outputId": "86360aa6-8084-43e7-9145-2a6628d050a8"
      },
      "execution_count": null,
      "outputs": [
        {
          "output_type": "execute_result",
          "data": {
            "text/plain": [
              "0.6562575965127319"
            ]
          },
          "metadata": {},
          "execution_count": 42
        }
      ]
    },
    {
      "cell_type": "code",
      "source": [
        "regressor.score(X_train,y_train)"
      ],
      "metadata": {
        "colab": {
          "base_uri": "https://localhost:8080/"
        },
        "id": "ygFTYcQCrCGt",
        "outputId": "bb0ede14-d67c-47de-80f5-271b2bdf7d97"
      },
      "execution_count": null,
      "outputs": [
        {
          "output_type": "execute_result",
          "data": {
            "text/plain": [
              "0.9982963931606104"
            ]
          },
          "metadata": {},
          "execution_count": 43
        }
      ]
    },
    {
      "cell_type": "code",
      "source": [
        "mean_squared_error(y_test, y_pred)"
      ],
      "metadata": {
        "colab": {
          "base_uri": "https://localhost:8080/"
        },
        "id": "0MDeHANfrFIM",
        "outputId": "b9ed289c-6722-4839-b7aa-210723996174"
      },
      "execution_count": null,
      "outputs": [
        {
          "output_type": "execute_result",
          "data": {
            "text/plain": [
              "0.3815385679079004"
            ]
          },
          "metadata": {},
          "execution_count": 44
        }
      ]
    },
    {
      "cell_type": "code",
      "source": [
        "mean_absolute_error(y_test, y_pred)"
      ],
      "metadata": {
        "colab": {
          "base_uri": "https://localhost:8080/"
        },
        "id": "CTdko1PKrJD0",
        "outputId": "8575f141-92e9-41f9-a7d4-ad30a5fbe78d"
      },
      "execution_count": null,
      "outputs": [
        {
          "output_type": "execute_result",
          "data": {
            "text/plain": [
              "0.3008404697042962"
            ]
          },
          "metadata": {},
          "execution_count": 45
        }
      ]
    },
    {
      "cell_type": "markdown",
      "source": [
        "Random Forrest Regression"
      ],
      "metadata": {
        "id": "X_9Kh7hcrNnn"
      }
    },
    {
      "cell_type": "code",
      "source": [
        "from sklearn.ensemble import RandomForestRegressor\n",
        "\n",
        "regressor = RandomForestRegressor(n_estimators = 10,random_state = 0) # n estiamator is the number of decision trees\n",
        "regressor.fit(X_train,y_train)"
      ],
      "metadata": {
        "colab": {
          "base_uri": "https://localhost:8080/"
        },
        "id": "4oxqDYdkrLUa",
        "outputId": "e63344f7-8033-42fc-c355-5af58e355667"
      },
      "execution_count": null,
      "outputs": [
        {
          "output_type": "stream",
          "name": "stderr",
          "text": [
            "/usr/local/lib/python3.7/dist-packages/ipykernel_launcher.py:4: DataConversionWarning: A column-vector y was passed when a 1d array was expected. Please change the shape of y to (n_samples,), for example using ravel().\n",
            "  after removing the cwd from sys.path.\n"
          ]
        },
        {
          "output_type": "execute_result",
          "data": {
            "text/plain": [
              "RandomForestRegressor(n_estimators=10, random_state=0)"
            ]
          },
          "metadata": {},
          "execution_count": 46
        }
      ]
    },
    {
      "cell_type": "code",
      "source": [
        "y_pred = regressor.predict(X_test)\n",
        "r2_score(y_test, y_pred)"
      ],
      "metadata": {
        "colab": {
          "base_uri": "https://localhost:8080/"
        },
        "id": "W5c3MFT6rTJF",
        "outputId": "ef64e6dc-27f3-4622-cd57-de4f14421621"
      },
      "execution_count": null,
      "outputs": [
        {
          "output_type": "execute_result",
          "data": {
            "text/plain": [
              "0.8757214770662562"
            ]
          },
          "metadata": {},
          "execution_count": 47
        }
      ]
    },
    {
      "cell_type": "code",
      "source": [
        "regressor.score(X_train,y_train)"
      ],
      "metadata": {
        "colab": {
          "base_uri": "https://localhost:8080/"
        },
        "id": "bO7tLVNJrV8E",
        "outputId": "cea6d9ea-87ff-49bf-a9ef-75cd55bd415c"
      },
      "execution_count": null,
      "outputs": [
        {
          "output_type": "execute_result",
          "data": {
            "text/plain": [
              "0.9644959129365694"
            ]
          },
          "metadata": {},
          "execution_count": 48
        }
      ]
    },
    {
      "cell_type": "code",
      "source": [
        "mean_absolute_error(y_test, y_pred)"
      ],
      "metadata": {
        "colab": {
          "base_uri": "https://localhost:8080/"
        },
        "id": "Dhs8P2xhrZtC",
        "outputId": "9ebed8f6-227a-47ab-de51-bc69e37b4033"
      },
      "execution_count": null,
      "outputs": [
        {
          "output_type": "execute_result",
          "data": {
            "text/plain": [
              "0.2156241682333011"
            ]
          },
          "metadata": {},
          "execution_count": 49
        }
      ]
    },
    {
      "cell_type": "code",
      "source": [
        "mean_squared_error(y_test, y_pred)"
      ],
      "metadata": {
        "colab": {
          "base_uri": "https://localhost:8080/"
        },
        "id": "G44QjI2qrcnu",
        "outputId": "7834c59b-987f-4bb1-910b-6d6c0da2bde7"
      },
      "execution_count": null,
      "outputs": [
        {
          "output_type": "execute_result",
          "data": {
            "text/plain": [
              "0.1379435565144235"
            ]
          },
          "metadata": {},
          "execution_count": 50
        }
      ]
    },
    {
      "cell_type": "markdown",
      "source": [
        "**Result Analysis**\n",
        "\n",
        "Result analysis of used regression alagrotihm used in this projects in the table below. \n",
        "![q3e1.PNG](data:image/png;base64,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)"
      ],
      "metadata": {
        "id": "JTXnVYMZrnBr"
      }
    },
    {
      "cell_type": "markdown",
      "source": [
        "# ***Disscussion***\n",
        "\n",
        "Here, We used 4 different algorithms named Linear Regression, Support Vector Regresio, Decision Tree Regression and Random Forest Regression. 4 different errors are found for 4 different algorithms. For this, proper scaling of features and target was important. And splitting of test set and trainging set was also important to do this work in less time and complexcity. It can be said from the table is, Random Forest Regression's Regessor score can give best result for this project."
      ],
      "metadata": {
        "id": "dyLkaszutrOE"
      }
    }
  ]
}